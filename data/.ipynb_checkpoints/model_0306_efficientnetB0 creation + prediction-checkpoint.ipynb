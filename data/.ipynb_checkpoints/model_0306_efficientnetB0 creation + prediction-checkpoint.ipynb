{
 "cells": [
  {
   "cell_type": "markdown",
   "id": "194e05e7",
   "metadata": {},
   "source": [
    "# 0. LIBRERIES USED"
   ]
  },
  {
   "cell_type": "code",
   "execution_count": 2,
   "id": "aff67238",
   "metadata": {},
   "outputs": [],
   "source": [
    "from tensorflow.keras.preprocessing.image import ImageDataGenerator\n",
    "from tensorflow.keras.applications import EfficientNetB0\n",
    "from tensorflow.keras.layers import Dense, GlobalAveragePooling2D\n",
    "from tensorflow.keras.models import Model\n",
    "from keras.preprocessing import image\n",
    "from tensorflow.keras.preprocessing.image import ImageDataGenerator\n",
    "from tensorflow.keras.applications.efficientnet import preprocess_input, EfficientNetB0"
   ]
  },
  {
   "cell_type": "code",
   "execution_count": 1,
   "id": "2379c8ef",
   "metadata": {
    "scrolled": true
   },
   "outputs": [],
   "source": [
    "import keras\n",
    "import numpy as np\n",
    "import pandas as pd\n",
    "import os\n",
    "from keras.preprocessing import image\n",
    "import tensorflow as tf\n",
    "from PIL import Image\n",
    "from sklearn.metrics import accuracy_score\n",
    "import re\n"
   ]
  },
  {
   "cell_type": "code",
   "execution_count": 3,
   "id": "5b2c4b38",
   "metadata": {},
   "outputs": [],
   "source": [
    "from sklearn.model_selection import train_test_split"
   ]
  },
  {
   "cell_type": "code",
   "execution_count": 4,
   "id": "3b5fa099",
   "metadata": {},
   "outputs": [],
   "source": [
    "from tensorflow.keras.preprocessing import image"
   ]
  },
  {
   "cell_type": "code",
   "execution_count": null,
   "id": "acdb1259",
   "metadata": {},
   "outputs": [],
   "source": [
    "Let's"
   ]
  },
  {
   "cell_type": "code",
   "execution_count": 7,
   "id": "35aac772",
   "metadata": {},
   "outputs": [
    {
     "data": {
      "text/html": [
       "<div>\n",
       "<style scoped>\n",
       "    .dataframe tbody tr th:only-of-type {\n",
       "        vertical-align: middle;\n",
       "    }\n",
       "\n",
       "    .dataframe tbody tr th {\n",
       "        vertical-align: top;\n",
       "    }\n",
       "\n",
       "    .dataframe thead th {\n",
       "        text-align: right;\n",
       "    }\n",
       "</style>\n",
       "<table border=\"1\" class=\"dataframe\">\n",
       "  <thead>\n",
       "    <tr style=\"text-align: right;\">\n",
       "      <th></th>\n",
       "      <th>Image</th>\n",
       "      <th>Category</th>\n",
       "    </tr>\n",
       "  </thead>\n",
       "  <tbody>\n",
       "    <tr>\n",
       "      <th>0</th>\n",
       "      <td>battery/battery1.jpg</td>\n",
       "      <td>0</td>\n",
       "    </tr>\n",
       "    <tr>\n",
       "      <th>1</th>\n",
       "      <td>battery/battery10.jpg</td>\n",
       "      <td>0</td>\n",
       "    </tr>\n",
       "    <tr>\n",
       "      <th>2</th>\n",
       "      <td>battery/battery100.jpg</td>\n",
       "      <td>0</td>\n",
       "    </tr>\n",
       "    <tr>\n",
       "      <th>3</th>\n",
       "      <td>battery/battery101.jpg</td>\n",
       "      <td>0</td>\n",
       "    </tr>\n",
       "    <tr>\n",
       "      <th>4</th>\n",
       "      <td>battery/battery102.jpg</td>\n",
       "      <td>0</td>\n",
       "    </tr>\n",
       "    <tr>\n",
       "      <th>...</th>\n",
       "      <td>...</td>\n",
       "      <td>...</td>\n",
       "    </tr>\n",
       "    <tr>\n",
       "      <th>15510</th>\n",
       "      <td>white-glass/white-glass95.jpg</td>\n",
       "      <td>12</td>\n",
       "    </tr>\n",
       "    <tr>\n",
       "      <th>15511</th>\n",
       "      <td>white-glass/white-glass96.jpg</td>\n",
       "      <td>12</td>\n",
       "    </tr>\n",
       "    <tr>\n",
       "      <th>15512</th>\n",
       "      <td>white-glass/white-glass97.jpg</td>\n",
       "      <td>12</td>\n",
       "    </tr>\n",
       "    <tr>\n",
       "      <th>15513</th>\n",
       "      <td>white-glass/white-glass98.jpg</td>\n",
       "      <td>12</td>\n",
       "    </tr>\n",
       "    <tr>\n",
       "      <th>15514</th>\n",
       "      <td>white-glass/white-glass99.jpg</td>\n",
       "      <td>12</td>\n",
       "    </tr>\n",
       "  </tbody>\n",
       "</table>\n",
       "<p>15515 rows × 2 columns</p>\n",
       "</div>"
      ],
      "text/plain": [
       "                               Image  Category\n",
       "0               battery/battery1.jpg         0\n",
       "1              battery/battery10.jpg         0\n",
       "2             battery/battery100.jpg         0\n",
       "3             battery/battery101.jpg         0\n",
       "4             battery/battery102.jpg         0\n",
       "...                              ...       ...\n",
       "15510  white-glass/white-glass95.jpg        12\n",
       "15511  white-glass/white-glass96.jpg        12\n",
       "15512  white-glass/white-glass97.jpg        12\n",
       "15513  white-glass/white-glass98.jpg        12\n",
       "15514  white-glass/white-glass99.jpg        12\n",
       "\n",
       "[15515 rows x 2 columns]"
      ]
     },
     "execution_count": 7,
     "metadata": {},
     "output_type": "execute_result"
    }
   ],
   "source": [
    "df=pd.read_csv('datasets/df_f.csv')\n",
    "df"
   ]
  },
  {
   "cell_type": "code",
   "execution_count": 8,
   "id": "9f9d2c9b",
   "metadata": {},
   "outputs": [],
   "source": [
    "garbage_types_labels = {\n",
    "    0: 'battery',\n",
    "    1: 'biological',\n",
    "    3: 'brown-glass',\n",
    "    4: 'cardboard',\n",
    "    5: 'clothes',\n",
    "    6: 'green-glass',\n",
    "    7: 'metal',\n",
    "    8: 'paper',\n",
    "    9: 'plastic',\n",
    "    10: 'shoes',\n",
    "    11: 'trash',\n",
    "    12: 'white-glass'\n",
    "}"
   ]
  },
  {
   "cell_type": "code",
   "execution_count": 9,
   "id": "97eb13c1",
   "metadata": {},
   "outputs": [
    {
     "data": {
      "text/html": [
       "<div>\n",
       "<style scoped>\n",
       "    .dataframe tbody tr th:only-of-type {\n",
       "        vertical-align: middle;\n",
       "    }\n",
       "\n",
       "    .dataframe tbody tr th {\n",
       "        vertical-align: top;\n",
       "    }\n",
       "\n",
       "    .dataframe thead th {\n",
       "        text-align: right;\n",
       "    }\n",
       "</style>\n",
       "<table border=\"1\" class=\"dataframe\">\n",
       "  <thead>\n",
       "    <tr style=\"text-align: right;\">\n",
       "      <th></th>\n",
       "      <th>Image</th>\n",
       "      <th>Category</th>\n",
       "    </tr>\n",
       "  </thead>\n",
       "  <tbody>\n",
       "    <tr>\n",
       "      <th>0</th>\n",
       "      <td>battery/battery1.jpg</td>\n",
       "      <td>0</td>\n",
       "    </tr>\n",
       "    <tr>\n",
       "      <th>1</th>\n",
       "      <td>battery/battery10.jpg</td>\n",
       "      <td>0</td>\n",
       "    </tr>\n",
       "    <tr>\n",
       "      <th>2</th>\n",
       "      <td>battery/battery100.jpg</td>\n",
       "      <td>0</td>\n",
       "    </tr>\n",
       "    <tr>\n",
       "      <th>3</th>\n",
       "      <td>battery/battery101.jpg</td>\n",
       "      <td>0</td>\n",
       "    </tr>\n",
       "    <tr>\n",
       "      <th>4</th>\n",
       "      <td>battery/battery102.jpg</td>\n",
       "      <td>0</td>\n",
       "    </tr>\n",
       "    <tr>\n",
       "      <th>...</th>\n",
       "      <td>...</td>\n",
       "      <td>...</td>\n",
       "    </tr>\n",
       "    <tr>\n",
       "      <th>15510</th>\n",
       "      <td>white-glass/white-glass95.jpg</td>\n",
       "      <td>12</td>\n",
       "    </tr>\n",
       "    <tr>\n",
       "      <th>15511</th>\n",
       "      <td>white-glass/white-glass96.jpg</td>\n",
       "      <td>12</td>\n",
       "    </tr>\n",
       "    <tr>\n",
       "      <th>15512</th>\n",
       "      <td>white-glass/white-glass97.jpg</td>\n",
       "      <td>12</td>\n",
       "    </tr>\n",
       "    <tr>\n",
       "      <th>15513</th>\n",
       "      <td>white-glass/white-glass98.jpg</td>\n",
       "      <td>12</td>\n",
       "    </tr>\n",
       "    <tr>\n",
       "      <th>15514</th>\n",
       "      <td>white-glass/white-glass99.jpg</td>\n",
       "      <td>12</td>\n",
       "    </tr>\n",
       "  </tbody>\n",
       "</table>\n",
       "<p>15515 rows × 2 columns</p>\n",
       "</div>"
      ],
      "text/plain": [
       "                               Image  Category\n",
       "0               battery/battery1.jpg         0\n",
       "1              battery/battery10.jpg         0\n",
       "2             battery/battery100.jpg         0\n",
       "3             battery/battery101.jpg         0\n",
       "4             battery/battery102.jpg         0\n",
       "...                              ...       ...\n",
       "15510  white-glass/white-glass95.jpg        12\n",
       "15511  white-glass/white-glass96.jpg        12\n",
       "15512  white-glass/white-glass97.jpg        12\n",
       "15513  white-glass/white-glass98.jpg        12\n",
       "15514  white-glass/white-glass99.jpg        12\n",
       "\n",
       "[15515 rows x 2 columns]"
      ]
     },
     "execution_count": 9,
     "metadata": {},
     "output_type": "execute_result"
    }
   ],
   "source": [
    "df"
   ]
  },
  {
   "cell_type": "code",
   "execution_count": 10,
   "id": "d76de3c0",
   "metadata": {},
   "outputs": [],
   "source": [
    "df[\"Category\"] = df[\"Category\"].replace(garbage_types_labels) "
   ]
  },
  {
   "cell_type": "code",
   "execution_count": 11,
   "id": "c5145134",
   "metadata": {},
   "outputs": [
    {
     "data": {
      "text/html": [
       "<div>\n",
       "<style scoped>\n",
       "    .dataframe tbody tr th:only-of-type {\n",
       "        vertical-align: middle;\n",
       "    }\n",
       "\n",
       "    .dataframe tbody tr th {\n",
       "        vertical-align: top;\n",
       "    }\n",
       "\n",
       "    .dataframe thead th {\n",
       "        text-align: right;\n",
       "    }\n",
       "</style>\n",
       "<table border=\"1\" class=\"dataframe\">\n",
       "  <thead>\n",
       "    <tr style=\"text-align: right;\">\n",
       "      <th></th>\n",
       "      <th>Image</th>\n",
       "      <th>Category</th>\n",
       "    </tr>\n",
       "  </thead>\n",
       "  <tbody>\n",
       "    <tr>\n",
       "      <th>0</th>\n",
       "      <td>battery/battery1.jpg</td>\n",
       "      <td>battery</td>\n",
       "    </tr>\n",
       "    <tr>\n",
       "      <th>1</th>\n",
       "      <td>battery/battery10.jpg</td>\n",
       "      <td>battery</td>\n",
       "    </tr>\n",
       "    <tr>\n",
       "      <th>2</th>\n",
       "      <td>battery/battery100.jpg</td>\n",
       "      <td>battery</td>\n",
       "    </tr>\n",
       "    <tr>\n",
       "      <th>3</th>\n",
       "      <td>battery/battery101.jpg</td>\n",
       "      <td>battery</td>\n",
       "    </tr>\n",
       "    <tr>\n",
       "      <th>4</th>\n",
       "      <td>battery/battery102.jpg</td>\n",
       "      <td>battery</td>\n",
       "    </tr>\n",
       "    <tr>\n",
       "      <th>...</th>\n",
       "      <td>...</td>\n",
       "      <td>...</td>\n",
       "    </tr>\n",
       "    <tr>\n",
       "      <th>15510</th>\n",
       "      <td>white-glass/white-glass95.jpg</td>\n",
       "      <td>white-glass</td>\n",
       "    </tr>\n",
       "    <tr>\n",
       "      <th>15511</th>\n",
       "      <td>white-glass/white-glass96.jpg</td>\n",
       "      <td>white-glass</td>\n",
       "    </tr>\n",
       "    <tr>\n",
       "      <th>15512</th>\n",
       "      <td>white-glass/white-glass97.jpg</td>\n",
       "      <td>white-glass</td>\n",
       "    </tr>\n",
       "    <tr>\n",
       "      <th>15513</th>\n",
       "      <td>white-glass/white-glass98.jpg</td>\n",
       "      <td>white-glass</td>\n",
       "    </tr>\n",
       "    <tr>\n",
       "      <th>15514</th>\n",
       "      <td>white-glass/white-glass99.jpg</td>\n",
       "      <td>white-glass</td>\n",
       "    </tr>\n",
       "  </tbody>\n",
       "</table>\n",
       "<p>15515 rows × 2 columns</p>\n",
       "</div>"
      ],
      "text/plain": [
       "                               Image     Category\n",
       "0               battery/battery1.jpg      battery\n",
       "1              battery/battery10.jpg      battery\n",
       "2             battery/battery100.jpg      battery\n",
       "3             battery/battery101.jpg      battery\n",
       "4             battery/battery102.jpg      battery\n",
       "...                              ...          ...\n",
       "15510  white-glass/white-glass95.jpg  white-glass\n",
       "15511  white-glass/white-glass96.jpg  white-glass\n",
       "15512  white-glass/white-glass97.jpg  white-glass\n",
       "15513  white-glass/white-glass98.jpg  white-glass\n",
       "15514  white-glass/white-glass99.jpg  white-glass\n",
       "\n",
       "[15515 rows x 2 columns]"
      ]
     },
     "execution_count": 11,
     "metadata": {},
     "output_type": "execute_result"
    }
   ],
   "source": [
    "df"
   ]
  },
  {
   "cell_type": "code",
   "execution_count": 16,
   "id": "6959b803",
   "metadata": {},
   "outputs": [],
   "source": [
    "train_df, validate_df = train_test_split(df, test_size=0.2, random_state=42)\n",
    "validate_df, test_df = train_test_split(validate_df, test_size=0.5, random_state=42)\n",
    "\n",
    "train_df = train_df.reset_index(drop=True)\n",
    "validate_df = validate_df.reset_index(drop=True)\n",
    "test_df = test_df.reset_index(drop=True)\n",
    "\n",
    "train = train_df.shape[0]\n",
    "validate = validate_df.shape[0]\n",
    "test=test_df.shape[0]"
   ]
  },
  {
   "cell_type": "code",
   "execution_count": 17,
   "id": "056f2516",
   "metadata": {},
   "outputs": [
    {
     "data": {
      "text/plain": [
       "1552"
      ]
     },
     "execution_count": 17,
     "metadata": {},
     "output_type": "execute_result"
    }
   ],
   "source": [
    "test"
   ]
  },
  {
   "cell_type": "code",
   "execution_count": 18,
   "id": "e3eed09b",
   "metadata": {},
   "outputs": [
    {
     "data": {
      "text/plain": [
       "1551"
      ]
     },
     "execution_count": 18,
     "metadata": {},
     "output_type": "execute_result"
    }
   ],
   "source": [
    "validate"
   ]
  },
  {
   "cell_type": "code",
   "execution_count": 22,
   "id": "d0dfff79",
   "metadata": {},
   "outputs": [
    {
     "data": {
      "text/html": [
       "<div>\n",
       "<style scoped>\n",
       "    .dataframe tbody tr th:only-of-type {\n",
       "        vertical-align: middle;\n",
       "    }\n",
       "\n",
       "    .dataframe tbody tr th {\n",
       "        vertical-align: top;\n",
       "    }\n",
       "\n",
       "    .dataframe thead th {\n",
       "        text-align: right;\n",
       "    }\n",
       "</style>\n",
       "<table border=\"1\" class=\"dataframe\">\n",
       "  <thead>\n",
       "    <tr style=\"text-align: right;\">\n",
       "      <th></th>\n",
       "      <th>Image</th>\n",
       "      <th>Category</th>\n",
       "    </tr>\n",
       "  </thead>\n",
       "  <tbody>\n",
       "    <tr>\n",
       "      <th>0</th>\n",
       "      <td>clothes/clothes2288.jpg</td>\n",
       "      <td>clothes</td>\n",
       "    </tr>\n",
       "    <tr>\n",
       "      <th>1</th>\n",
       "      <td>clothes/clothes954.jpg</td>\n",
       "      <td>clothes</td>\n",
       "    </tr>\n",
       "    <tr>\n",
       "      <th>2</th>\n",
       "      <td>cardboard/cardboard846.jpg</td>\n",
       "      <td>cardboard</td>\n",
       "    </tr>\n",
       "    <tr>\n",
       "      <th>3</th>\n",
       "      <td>plastic/plastic487.jpg</td>\n",
       "      <td>plastic</td>\n",
       "    </tr>\n",
       "    <tr>\n",
       "      <th>4</th>\n",
       "      <td>shoes/shoes551.jpg</td>\n",
       "      <td>shoes</td>\n",
       "    </tr>\n",
       "    <tr>\n",
       "      <th>...</th>\n",
       "      <td>...</td>\n",
       "      <td>...</td>\n",
       "    </tr>\n",
       "    <tr>\n",
       "      <th>12407</th>\n",
       "      <td>clothes/clothes2586.jpg</td>\n",
       "      <td>clothes</td>\n",
       "    </tr>\n",
       "    <tr>\n",
       "      <th>12408</th>\n",
       "      <td>shoes/shoes436.jpg</td>\n",
       "      <td>shoes</td>\n",
       "    </tr>\n",
       "    <tr>\n",
       "      <th>12409</th>\n",
       "      <td>clothes/clothes2765.jpg</td>\n",
       "      <td>clothes</td>\n",
       "    </tr>\n",
       "    <tr>\n",
       "      <th>12410</th>\n",
       "      <td>battery/battery874.jpg</td>\n",
       "      <td>battery</td>\n",
       "    </tr>\n",
       "    <tr>\n",
       "      <th>12411</th>\n",
       "      <td>clothes/clothes4457.jpg</td>\n",
       "      <td>clothes</td>\n",
       "    </tr>\n",
       "  </tbody>\n",
       "</table>\n",
       "<p>12412 rows × 2 columns</p>\n",
       "</div>"
      ],
      "text/plain": [
       "                            Image   Category\n",
       "0         clothes/clothes2288.jpg    clothes\n",
       "1          clothes/clothes954.jpg    clothes\n",
       "2      cardboard/cardboard846.jpg  cardboard\n",
       "3          plastic/plastic487.jpg    plastic\n",
       "4              shoes/shoes551.jpg      shoes\n",
       "...                           ...        ...\n",
       "12407     clothes/clothes2586.jpg    clothes\n",
       "12408          shoes/shoes436.jpg      shoes\n",
       "12409     clothes/clothes2765.jpg    clothes\n",
       "12410      battery/battery874.jpg    battery\n",
       "12411     clothes/clothes4457.jpg    clothes\n",
       "\n",
       "[12412 rows x 2 columns]"
      ]
     },
     "execution_count": 22,
     "metadata": {},
     "output_type": "execute_result"
    }
   ],
   "source": [
    "train_df = train_df.reset_index(drop=True)\n",
    "train_df"
   ]
  },
  {
   "cell_type": "code",
   "execution_count": 79,
   "id": "1a77ae9d",
   "metadata": {},
   "outputs": [
    {
     "data": {
      "text/plain": [
       "Category\n",
       "clothes        5325\n",
       "shoes          1977\n",
       "paper          1050\n",
       "biological      985\n",
       "battery         945\n",
       "cardboard       891\n",
       "plastic         865\n",
       "white-glass     775\n",
       "metal           769\n",
       "trash           697\n",
       "green-glass     629\n",
       "brown-glass     607\n",
       "Name: count, dtype: int64"
      ]
     },
     "execution_count": 79,
     "metadata": {},
     "output_type": "execute_result"
    }
   ],
   "source": [
    "df['Category'].value_counts()"
   ]
  },
  {
   "cell_type": "code",
   "execution_count": 15,
   "id": "92079ae9",
   "metadata": {},
   "outputs": [
    {
     "data": {
      "text/plain": [
       "Category\n",
       "clothes        4238\n",
       "shoes          1596\n",
       "paper           844\n",
       "biological      804\n",
       "battery         751\n",
       "cardboard       717\n",
       "plastic         685\n",
       "white-glass     630\n",
       "metal           601\n",
       "trash           571\n",
       "green-glass     498\n",
       "brown-glass     477\n",
       "Name: count, dtype: int64"
      ]
     },
     "execution_count": 15,
     "metadata": {},
     "output_type": "execute_result"
    }
   ],
   "source": [
    "train_df['Category'].value_counts()"
   ]
  },
  {
   "cell_type": "code",
   "execution_count": 16,
   "id": "2e3b104f",
   "metadata": {},
   "outputs": [
    {
     "data": {
      "text/plain": [
       "Category\n",
       "clothes        548\n",
       "shoes          200\n",
       "biological     105\n",
       "plastic         92\n",
       "metal           89\n",
       "battery         87\n",
       "paper           86\n",
       "white-glass     77\n",
       "cardboard       76\n",
       "brown-glass     67\n",
       "green-glass     63\n",
       "trash           61\n",
       "Name: count, dtype: int64"
      ]
     },
     "execution_count": 16,
     "metadata": {},
     "output_type": "execute_result"
    }
   ],
   "source": [
    "validate_df['Category'].value_counts()"
   ]
  },
  {
   "cell_type": "code",
   "execution_count": 17,
   "id": "a38bc2fa",
   "metadata": {},
   "outputs": [
    {
     "data": {
      "text/plain": [
       "Category\n",
       "clothes        539\n",
       "shoes          181\n",
       "paper          120\n",
       "battery        107\n",
       "cardboard       98\n",
       "plastic         88\n",
       "metal           79\n",
       "biological      76\n",
       "white-glass     68\n",
       "green-glass     68\n",
       "trash           65\n",
       "brown-glass     63\n",
       "Name: count, dtype: int64"
      ]
     },
     "execution_count": 17,
     "metadata": {},
     "output_type": "execute_result"
    }
   ],
   "source": [
    "test_df['Category'].value_counts()"
   ]
  },
  {
   "cell_type": "markdown",
   "id": "cdeaeb16",
   "metadata": {},
   "source": [
    "### TO CSV"
   ]
  },
  {
   "cell_type": "code",
   "execution_count": 23,
   "id": "47af9c2b",
   "metadata": {},
   "outputs": [],
   "source": [
    "train_df.to_csv('train.csv', index=False)\n",
    "test_df.to_csv('test.csv',index=False)\n",
    "validate_df.to_csv('validation.csv',index=False)"
   ]
  },
  {
   "cell_type": "code",
   "execution_count": 29,
   "id": "6cce2079",
   "metadata": {},
   "outputs": [],
   "source": [
    "num_classes=12"
   ]
  },
  {
   "cell_type": "code",
   "execution_count": 30,
   "id": "6550cb10",
   "metadata": {},
   "outputs": [],
   "source": [
    "img_height = 224\n",
    "img_width = 224\n",
    "img_size=(img_width,img_height)"
   ]
  },
  {
   "cell_type": "code",
   "execution_count": 31,
   "id": "c5bdc950",
   "metadata": {},
   "outputs": [],
   "source": [
    "train_datagen = ImageDataGenerator(preprocessing_function=preprocess_input, validation_split=0.2)\n",
    "test_datagen = ImageDataGenerator(rescale=1.0/255.0)\n",
    "valid_datagen = ImageDataGenerator(rescale=1./255)"
   ]
  },
  {
   "cell_type": "code",
   "execution_count": 32,
   "id": "65dff750",
   "metadata": {},
   "outputs": [],
   "source": [
    "data_directory = \"garbage_classification/\""
   ]
  },
  {
   "cell_type": "code",
   "execution_count": 33,
   "id": "95c45057",
   "metadata": {},
   "outputs": [
    {
     "name": "stdout",
     "output_type": "stream",
     "text": [
      "Found 12412 validated image filenames belonging to 12 classes.\n"
     ]
    }
   ],
   "source": [
    "train_generator = train_datagen.flow_from_dataframe(\n",
    "    dataframe=train_df, \n",
    "    directory=data_directory, \n",
    "    x_col='Image',\n",
    "    y_col='Category',\n",
    "    target_size=img_size,\n",
    "    class_mode='categorical',\n",
    "    batch_size=32\n",
    ")"
   ]
  },
  {
   "cell_type": "code",
   "execution_count": 34,
   "id": "ec149eff",
   "metadata": {},
   "outputs": [
    {
     "name": "stdout",
     "output_type": "stream",
     "text": [
      "Found 1551 validated image filenames belonging to 12 classes.\n"
     ]
    }
   ],
   "source": [
    "validation_generator = train_datagen.flow_from_dataframe(\n",
    "    dataframe=validate_df,\n",
    "    directory=data_directory,\n",
    "    x_col='Image',\n",
    "    y_col='Category',\n",
    "    target_size=img_size,\n",
    "    class_mode='categorical',\n",
    "    batch_size=32)"
   ]
  },
  {
   "cell_type": "code",
   "execution_count": 35,
   "id": "d0c1b3bb",
   "metadata": {},
   "outputs": [
    {
     "name": "stdout",
     "output_type": "stream",
     "text": [
      "Found 1552 validated image filenames belonging to 12 classes.\n"
     ]
    }
   ],
   "source": [
    "test_generator = test_datagen.flow_from_dataframe(\n",
    "    dataframe=test_df,\n",
    "    directory=data_directory,\n",
    "    x_col='Image',\n",
    "    y_col='Category',\n",
    "    target_size=img_size,\n",
    "    class_mode='categorical',\n",
    "    batch_size=32\n",
    ")"
   ]
  },
  {
   "cell_type": "markdown",
   "id": "20985e1a",
   "metadata": {},
   "source": [
    "# 1. model_0306_efficientnetB0"
   ]
  },
  {
   "cell_type": "code",
   "execution_count": 75,
   "id": "8176d9a0",
   "metadata": {},
   "outputs": [],
   "source": [
    "from datetime import datetime\n",
    "from tensorflow.keras.applications import EfficientNetB0\n",
    "from tensorflow.keras.layers import GlobalAveragePooling2D, Dense\n",
    "from tensorflow.keras.models import Model\n",
    "\n",
    "#model_0306_efficientnetB0\n",
    "\n",
    "def create_model(path, name, img_height, img_width, train_generator, validation_generator, epochs):\n",
    "    num_classes = 12\n",
    "\n",
    "    start = datetime.now()\n",
    "\n",
    "    # Crear el modelo base\n",
    "    base_model = EfficientNetB0(weights='imagenet', include_top=False, input_shape=(img_height, img_width, 3))\n",
    "    x = base_model.output\n",
    "    x = GlobalAveragePooling2D()(x)\n",
    "    x = Dense(512, activation='relu')(x)\n",
    "    predictions = Dense(num_classes, activation='softmax')(x)\n",
    "\n",
    "    # Definir el modelo final\n",
    "    model = Model(inputs=base_model.input, outputs=predictions)\n",
    "\n",
    "    # Congelar las capas del modelo base\n",
    "    for layer in base_model.layers:\n",
    "        layer.trainable = False\n",
    "\n",
    "    # Compilar el modelo\n",
    "    model.compile(optimizer='adam', loss='categorical_crossentropy', metrics=['accuracy'])\n",
    "\n",
    "    # Entrenar el modelo\n",
    "    history=model.fit(train_generator, epochs=epochs, validation_data=validation_generator)\n",
    "\n",
    "    try:\n",
    "        model.save(f\"{path}/{name}.h5\")\n",
    "    except:\n",
    "        print(\"Modelo no guardado\")\n",
    "\n",
    "    end = datetime.now()\n",
    "\n",
    "    print(f\"It took {end-start} time\")\n",
    "    \n",
    "    return history\n"
   ]
  },
  {
   "cell_type": "code",
   "execution_count": 78,
   "id": "9b733a14",
   "metadata": {},
   "outputs": [
    {
     "name": "stdout",
     "output_type": "stream",
     "text": [
      "388/388 [==============================] - 638s 2s/step - loss: 0.2343 - accuracy: 0.9284 - val_loss: 0.1581 - val_accuracy: 0.9529\n",
      "It took 0:10:39.595955 time\n"
     ]
    }
   ],
   "source": [
    "history=create_model(\".\", \"model_0306_efficientnetB0\", 224, 224, train_generator, validation_generator, epochs=1)"
   ]
  },
  {
   "cell_type": "code",
   "execution_count": 81,
   "id": "7df099b2",
   "metadata": {},
   "outputs": [
    {
     "data": {
      "text/plain": [
       "<keras.callbacks.History at 0x24a937e0460>"
      ]
     },
     "execution_count": 81,
     "metadata": {},
     "output_type": "execute_result"
    }
   ],
   "source": [
    "history"
   ]
  },
  {
   "cell_type": "markdown",
   "id": "1719b327",
   "metadata": {},
   "source": [
    "# 1.1 Retrain model_0306_efficientnetB0"
   ]
  },
  {
   "cell_type": "code",
   "execution_count": 83,
   "id": "fefd8483",
   "metadata": {},
   "outputs": [],
   "source": [
    "from tensorflow.keras.models import load_model\n",
    "from datetime import datetime\n",
    "\n",
    "def retrain_model(model_path, img_height, img_width, train_generator, validation_generator, epochs, save_path, save_name):\n",
    "    start = datetime.now()\n",
    "\n",
    "    # Cargar el modelo desde el archivo guardado\n",
    "    model = load_model(model_path)\n",
    "\n",
    "    # Compilar el modelo\n",
    "    model.compile(optimizer='adam', loss='categorical_crossentropy', metrics=['accuracy'])\n",
    "\n",
    "    # Entrenar el modelo\n",
    "    history=model.fit(train_generator, epochs=epochs, validation_data=validation_generator)\n",
    "\n",
    "    # Guardar el modelo una vez finalizado el entrenamiento\n",
    "    try:\n",
    "        model.save(f\"{save_path}/{save_name}.h5\")\n",
    "        print(\"Modelo guardado correctamente.\")\n",
    "    except:\n",
    "        print(\"Error al guardar el modelo.\")\n",
    "\n",
    "    end = datetime.now()\n",
    "    print(f\"Tiempo de entrenamiento: {end-start}\")\n",
    "    \n",
    "    return history\n"
   ]
  },
  {
   "cell_type": "code",
   "execution_count": 84,
   "id": "85125b72",
   "metadata": {},
   "outputs": [
    {
     "name": "stdout",
     "output_type": "stream",
     "text": [
      "Epoch 1/20\n",
      "388/388 [==============================] - 574s 1s/step - loss: 0.0177 - accuracy: 0.9952 - val_loss: 0.2671 - val_accuracy: 0.9497\n",
      "Epoch 2/20\n",
      "388/388 [==============================] - 557s 1s/step - loss: 0.0153 - accuracy: 0.9956 - val_loss: 0.2755 - val_accuracy: 0.9523\n",
      "Epoch 3/20\n",
      "388/388 [==============================] - 620s 2s/step - loss: 0.0112 - accuracy: 0.9969 - val_loss: 0.2685 - val_accuracy: 0.9542\n",
      "Epoch 4/20\n",
      "388/388 [==============================] - 606s 2s/step - loss: 0.0095 - accuracy: 0.9969 - val_loss: 0.2635 - val_accuracy: 0.9549\n",
      "Epoch 5/20\n",
      "388/388 [==============================] - 603s 2s/step - loss: 0.0067 - accuracy: 0.9975 - val_loss: 0.2737 - val_accuracy: 0.9542\n",
      "Epoch 6/20\n",
      "388/388 [==============================] - 595s 2s/step - loss: 0.0125 - accuracy: 0.9965 - val_loss: 0.3262 - val_accuracy: 0.9549\n",
      "Epoch 7/20\n",
      "388/388 [==============================] - 574s 1s/step - loss: 0.0162 - accuracy: 0.9953 - val_loss: 0.3182 - val_accuracy: 0.9523\n",
      "Epoch 8/20\n",
      "388/388 [==============================] - 566s 1s/step - loss: 0.0153 - accuracy: 0.9956 - val_loss: 0.3092 - val_accuracy: 0.9516\n",
      "Epoch 9/20\n",
      "388/388 [==============================] - 563s 1s/step - loss: 0.0072 - accuracy: 0.9969 - val_loss: 0.3018 - val_accuracy: 0.9497\n",
      "Epoch 10/20\n",
      "388/388 [==============================] - 567s 1s/step - loss: 0.0074 - accuracy: 0.9981 - val_loss: 0.3206 - val_accuracy: 0.9581\n",
      "Epoch 11/20\n",
      "388/388 [==============================] - 661s 2s/step - loss: 0.0107 - accuracy: 0.9969 - val_loss: 0.3176 - val_accuracy: 0.9529\n",
      "Epoch 12/20\n",
      "388/388 [==============================] - 659s 2s/step - loss: 0.0078 - accuracy: 0.9981 - val_loss: 0.2911 - val_accuracy: 0.9542\n",
      "Epoch 13/20\n",
      "388/388 [==============================] - 647s 2s/step - loss: 0.0059 - accuracy: 0.9979 - val_loss: 0.3352 - val_accuracy: 0.9568\n",
      "Epoch 14/20\n",
      "388/388 [==============================] - 659s 2s/step - loss: 0.0072 - accuracy: 0.9981 - val_loss: 0.3926 - val_accuracy: 0.9542\n",
      "Epoch 15/20\n",
      "388/388 [==============================] - 657s 2s/step - loss: 0.0119 - accuracy: 0.9969 - val_loss: 0.3348 - val_accuracy: 0.9555\n",
      "Epoch 16/20\n",
      "388/388 [==============================] - 653s 2s/step - loss: 0.0147 - accuracy: 0.9962 - val_loss: 0.4153 - val_accuracy: 0.9471\n",
      "Epoch 17/20\n",
      "388/388 [==============================] - 649s 2s/step - loss: 0.0116 - accuracy: 0.9966 - val_loss: 0.3571 - val_accuracy: 0.9562\n",
      "Epoch 18/20\n",
      "388/388 [==============================] - 655s 2s/step - loss: 0.0072 - accuracy: 0.9984 - val_loss: 0.3976 - val_accuracy: 0.9523\n",
      "Epoch 19/20\n",
      "388/388 [==============================] - 658s 2s/step - loss: 0.0046 - accuracy: 0.9985 - val_loss: 0.3676 - val_accuracy: 0.9581\n",
      "Epoch 20/20\n",
      "388/388 [==============================] - 638s 2s/step - loss: 0.0098 - accuracy: 0.9978 - val_loss: 0.3198 - val_accuracy: 0.9536\n",
      "Modelo guardado correctamente.\n",
      "Tiempo de entrenamiento: 3:26:04.565734\n"
     ]
    }
   ],
   "source": [
    "history=retrain_model(\"model_0306_efficientnetB0_retrain1.h5\", 224, 224, train_generator, validation_generator, epochs=20, save_path=\".\", save_name=\"model_0306_efficientnetB0_retrain2\")"
   ]
  },
  {
   "cell_type": "code",
   "execution_count": 86,
   "id": "3f7985c8",
   "metadata": {},
   "outputs": [
    {
     "data": {
      "image/png": "[encoded data removed]",
      "text/plain": [
       "<Figure size 1000x500 with 1 Axes>"
      ]
     },
     "metadata": {},
     "output_type": "display_data"
    },
    {
     "data": {
      "image/png": "[encoded data removed]",
      "text/plain": [
       "<Figure size 1000x500 with 1 Axes>"
      ]
     },
     "metadata": {},
     "output_type": "display_data"
    }
   ],
   "source": [
    "import matplotlib.pyplot as plt\n",
    "\n",
    "# Obtener historial de entrenamiento\n",
    "train_loss = history.history['loss']\n",
    "val_loss = history.history['val_loss']\n",
    "train_acc = history.history['accuracy']\n",
    "val_acc = history.history['val_accuracy']\n",
    "\n",
    "# Crear gráfico de pérdida\n",
    "plt.figure(figsize=(10, 5))\n",
    "plt.plot(train_loss, label='Training Loss')\n",
    "plt.plot(val_loss, label='Validation Loss')\n",
    "plt.title('Training and Validation Loss')\n",
    "plt.xlabel('Epoch')\n",
    "plt.ylabel('Loss')\n",
    "plt.legend()\n",
    "plt.show()\n",
    "\n",
    "# Crear gráfico de precisión\n",
    "plt.figure(figsize=(10, 5))\n",
    "plt.plot(train_acc, label='Training Accuracy')\n",
    "plt.plot(val_acc, label='Validation Accuracy')\n",
    "plt.title('Training and Validation Accuracy')\n",
    "plt.xlabel('Epoch')\n",
    "plt.ylabel('Accuracy')\n",
    "plt.legend()\n",
    "plt.show()\n"
   ]
  },
  {
   "cell_type": "code",
   "execution_count": 87,
   "id": "b778d485",
   "metadata": {},
   "outputs": [
    {
     "data": {
      "image/png": "[encoded data removed]",
      "text/plain": [
       "<Figure size 640x480 with 2 Axes>"
      ]
     },
     "metadata": {},
     "output_type": "display_data"
    }
   ],
   "source": [
    "import matplotlib.pyplot as plt\n",
    "\n",
    "# Crear figura y ejes\n",
    "fig, ax1 = plt.subplots()\n",
    "\n",
    "# Configurar ejes para la accuracy\n",
    "ax1.set_xlabel('Epoch')\n",
    "ax1.set_ylabel('Accuracy')\n",
    "ax1.plot(train_acc, label='Training Accuracy', color='blue')\n",
    "ax1.plot(val_acc, label='Validation Accuracy', color='orange')\n",
    "ax1.tick_params(axis='y')\n",
    "ax1.legend(loc='lower right')\n",
    "\n",
    "# Crear ejes secundario para el training loss\n",
    "ax2 = ax1.twinx()\n",
    "ax2.set_ylabel('Training Loss')\n",
    "ax2.plot(train_loss, label='Training Loss', color='green')\n",
    "ax2.tick_params(axis='y')\n",
    "ax2.legend(loc='upper right')\n",
    "\n",
    "# Título del gráfico\n",
    "plt.title('Training Accuracy and Loss')\n",
    "\n",
    "# Mostrar el gráfico\n",
    "plt.show()\n"
   ]
  },
  {
   "cell_type": "code",
   "execution_count": 88,
   "id": "f01a981f",
   "metadata": {},
   "outputs": [
    {
     "data": {
      "image/png": "[encoded data removed]",
      "text/plain": [
       "<Figure size 640x480 with 2 Axes>"
      ]
     },
     "metadata": {},
     "output_type": "display_data"
    }
   ],
   "source": [
    "import matplotlib.pyplot as plt\n",
    "\n",
    "# Crear figura y ejes\n",
    "fig, ax1 = plt.subplots()\n",
    "\n",
    "# Configurar ejes para la accuracy\n",
    "ax1.set_xlabel('Epoch')\n",
    "ax1.set_ylabel('Accuracy')\n",
    "ax1.plot(train_acc, label='Training Accuracy', color='blue')\n",
    "ax1.plot(val_acc, label='Validation Accuracy', color='orange')\n",
    "ax1.tick_params(axis='y')\n",
    "ax1.legend(loc='lower right')\n",
    "\n",
    "# Crear ejes secundario para el training loss (en la parte superior)\n",
    "ax2 = ax1.twinx()\n",
    "ax2.set_ylabel('Training Loss')\n",
    "ax2.plot(train_loss, label='Training Loss', color='green')\n",
    "ax2.tick_params(axis='y')\n",
    "ax2.legend(loc='upper left')\n",
    "\n",
    "# Título del gráfico\n",
    "plt.title('Training Accuracy and Loss')\n",
    "\n",
    "# Mostrar el gráfico\n",
    "plt.show()\n"
   ]
  },
  {
   "cell_type": "markdown",
   "id": "203b7ab5",
   "metadata": {},
   "source": [
    "# 2. model_0306_efficientnetB0 V2 + FINE+TUNNING"
   ]
  },
  {
   "cell_type": "code",
   "execution_count": 48,
   "id": "1c747708",
   "metadata": {},
   "outputs": [],
   "source": [
    "from datetime import datetime\n",
    "from tensorflow.keras.applications import EfficientNetB0\n",
    "from tensorflow.keras.layers import GlobalAveragePooling2D, Dense\n",
    "from tensorflow.keras.models import Model\n",
    "from tensorflow.keras.preprocessing.image import ImageDataGenerator\n",
    "\n",
    "#model_0306_efficientnetB0.v2\n",
    "\n",
    "def create_model(path, name, img_height, img_width, train_generator, validation_generator, epochs, fine_tuning=False, data_augmentation=False):\n",
    "    num_classes = 12\n",
    "\n",
    "    start = datetime.now()\n",
    "\n",
    "    # Crear el modelo base\n",
    "    base_model = EfficientNetB0(weights='imagenet', include_top=False, input_shape=(img_height, img_width, 3))\n",
    "    x = base_model.output\n",
    "    x = GlobalAveragePooling2D()(x)\n",
    "    x = Dense(512, activation='relu')(x)\n",
    "    predictions = Dense(num_classes, activation='softmax')(x)\n",
    "\n",
    "    # Definir el modelo final\n",
    "    model = Model(inputs=base_model.input, outputs=predictions)\n",
    "\n",
    "    # Congelar las capas del modelo base\n",
    "    for layer in base_model.layers:\n",
    "        layer.trainable = False\n",
    "\n",
    "    # Compilar el modelo\n",
    "    model.compile(optimizer='adam', loss='categorical_crossentropy', metrics=['accuracy'])\n",
    "\n",
    "    # Entrenar el modelo\n",
    "    if data_augmentation:\n",
    "        # Aplicar data augmentation durante el entrenamiento\n",
    "        train_datagen = ImageDataGenerator(\n",
    "            rotation_range=10,\n",
    "            width_shift_range=0.1,\n",
    "            height_shift_range=0.1,\n",
    "            shear_range=0.2,\n",
    "            zoom_range=0.2,\n",
    "            horizontal_flip=True,\n",
    "            vertical_flip=True\n",
    "        )\n",
    "        train_generator = train_datagen.flow_from_dataframe(\n",
    "            dataframe=train_df,\n",
    "            directory=data_directory,\n",
    "            x_col='Image',\n",
    "            y_col='Category',\n",
    "            target_size=(img_height, img_width),\n",
    "            class_mode='categorical',\n",
    "            batch_size=32\n",
    "        )\n",
    "\n",
    "    if fine_tuning:\n",
    "        # Descongelar las últimas capas del modelo base para el ajuste fino\n",
    "        for layer in base_model.layers[-20:]:\n",
    "            layer.trainable = True\n",
    "\n",
    "    history=model.fit(train_generator, epochs=epochs, validation_data=validation_generator)\n",
    "\n",
    "    try:\n",
    "        model.save(f\"{path}/{name}.h5\")\n",
    "    except:\n",
    "        print(\"Modelo no guardado\")\n",
    "\n",
    "    end = datetime.now()\n",
    "\n",
    "    print(f\"It took {end-start} time\")\n"
   ]
  },
  {
   "cell_type": "code",
   "execution_count": 50,
   "id": "07e05154",
   "metadata": {},
   "outputs": [
    {
     "name": "stdout",
     "output_type": "stream",
     "text": [
      "Epoch 1/2\n",
      "388/388 [==============================] - 577s 1s/step - loss: 0.2259 - accuracy: 0.9307 - val_loss: 0.1610 - val_accuracy: 0.9484\n",
      "Epoch 2/2\n",
      "388/388 [==============================] - 596s 2s/step - loss: 0.0716 - accuracy: 0.9766 - val_loss: 0.1711 - val_accuracy: 0.9562\n",
      "It took 0:19:34.726723 time\n"
     ]
    }
   ],
   "source": [
    "create_model(\".\", \"model_0306_efficientnetB0v2.h5\", 224, 224, train_generator, validation_generator, epochs=2)"
   ]
  },
  {
   "cell_type": "markdown",
   "id": "2633ca92",
   "metadata": {},
   "source": [
    "Congelación inicial: Al establecer layer.trainable = False para todas las capas del modelo base, se congela el peso de las capas pre-entrenadas. Esto significa que durante el entrenamiento, los pesos de estas capas no se actualizarán. Esto es útil cuando se quiere mantener el conocimiento aprendido en tareas previas y se quiere evitar que se pierda durante el entrenamiento con nuevos datos.\n",
    "\n",
    "Ajuste fino (fine-tuning): Después de haber entrenado el modelo congelado, se puede proceder a descongelar algunas capas del modelo base para permitir que se adapten a los nuevos datos. En el código mostrado, se utiliza base_model.layers[-20:] para seleccionar las últimas 20 capas del modelo base y se establece layer.trainable = True para permitir que sus pesos se actualicen durante el entrenamiento. Esto permite ajustar estas capas específicas para que se adapten mejor a los nuevos datos y, potencialmente, mejorar el rendimiento del modelo.\n",
    "\n",
    "La estrategia de congelación y descongelación de capas es común en la transferencia de aprendizaje, ya que permite aprovechar el conocimiento pre-entrenado mientras se adapta el modelo a la nueva tarea o conjunto de datos específicos."
   ]
  },
  {
   "cell_type": "markdown",
   "id": "be5cda00",
   "metadata": {},
   "source": [
    "# RESNET50"
   ]
  },
  {
   "cell_type": "code",
   "execution_count": 39,
   "id": "740ecdb7",
   "metadata": {},
   "outputs": [],
   "source": [
    "from datetime import datetime\n",
    "from tensorflow.keras.applications import ResNet50\n",
    "from tensorflow.keras.layers import GlobalAveragePooling2D, Dense\n",
    "from tensorflow.keras.models import Model\n",
    "\n",
    "def modelresnet(path, name, img_height, img_width, train_generator, validation_generator, epochs):\n",
    "    num_classes = 12\n",
    "\n",
    "    start = datetime.now()\n",
    "\n",
    "    # Crear el modelo base\n",
    "    base_model = ResNet50(weights='imagenet', include_top=False, input_shape=(img_height, img_width, 3))\n",
    "    x = base_model.output\n",
    "    x = GlobalAveragePooling2D()(x)\n",
    "    x = Dense(512, activation='relu')(x)\n",
    "    predictions = Dense(num_classes, activation='softmax')(x)\n",
    "\n",
    "    # Definir el modelo final\n",
    "    model = Model(inputs=base_model.input, outputs=predictions)\n",
    "\n",
    "    # Congelar las capas del modelo base\n",
    "    for layer in base_model.layers:\n",
    "        layer.trainable = False\n",
    "\n",
    "    # Compilar el modelo\n",
    "    model.compile(optimizer='adam', loss='categorical_crossentropy', metrics=['accuracy'])\n",
    "\n",
    "    # Entrenar el modelo\n",
    "    history = model.fit(train_generator, epochs=epochs, validation_data=validation_generator)\n",
    "\n",
    "    try:\n",
    "        model.save(f\"{path}/{name}.h5\")\n",
    "    except:\n",
    "        print(\"Modelo no guardado\")\n",
    "\n",
    "    end = datetime.now()\n",
    "    print(f\"It took {end-start} time\")\n",
    "\n",
    "    return history\n"
   ]
  },
  {
   "cell_type": "code",
   "execution_count": 40,
   "id": "d3b4ef8d",
   "metadata": {},
   "outputs": [
    {
     "name": "stdout",
     "output_type": "stream",
     "text": [
      "Downloading data from https://storage.googleapis.com/tensorflow/keras-applications/resnet/resnet50_weights_tf_dim_ordering_tf_kernels_notop.h5\n",
      "94765736/94765736 [==============================] - 4s 0us/step\n",
      "Epoch 1/5\n",
      "388/388 [==============================] - 1650s 4s/step - loss: 0.3843 - accuracy: 0.8809 - val_loss: 0.2591 - val_accuracy: 0.9162\n",
      "Epoch 2/5\n",
      "388/388 [==============================] - 1622s 4s/step - loss: 0.1431 - accuracy: 0.9516 - val_loss: 0.2320 - val_accuracy: 0.9329\n",
      "Epoch 3/5\n",
      "388/388 [==============================] - 1463s 4s/step - loss: 0.0907 - accuracy: 0.9699 - val_loss: 0.2460 - val_accuracy: 0.9278\n",
      "Epoch 4/5\n",
      "388/388 [==============================] - 1204s 3s/step - loss: 0.0611 - accuracy: 0.9801 - val_loss: 0.2359 - val_accuracy: 0.9362\n",
      "Epoch 5/5\n",
      "388/388 [==============================] - 1206s 3s/step - loss: 0.0455 - accuracy: 0.9853 - val_loss: 0.2554 - val_accuracy: 0.9278\n",
      "It took 1:59:15.239779 time\n"
     ]
    }
   ],
   "source": [
    "history=create_model(\".\", \"resnet50.h5\", 224, 224, train_generator, validation_generator, epochs=5)"
   ]
  },
  {
   "cell_type": "markdown",
   "id": "8f8f4c23",
   "metadata": {},
   "source": [
    "# PREDICTIONS"
   ]
  },
  {
   "cell_type": "markdown",
   "id": "bb28b6a0",
   "metadata": {},
   "source": [
    "1. Prediction model_0306_efficientnetB0 INITIAL VERSION\n",
    "2. Prediction model_0306_efficientnetB0 TRENAINED\n",
    "3. Prediction model_0306_efficientnetB0 v2 + fine tunning"
   ]
  },
  {
   "cell_type": "markdown",
   "id": "eeead80b",
   "metadata": {},
   "source": [
    "# 1. Prediction model_0306_efficientnetB0"
   ]
  },
  {
   "cell_type": "code",
   "execution_count": 41,
   "id": "160a9071",
   "metadata": {},
   "outputs": [],
   "source": [
    "from tensorflow.keras.models import load_model\n",
    "model = load_model(\"model_0306_efficientnetB0.h5\")"
   ]
  },
  {
   "cell_type": "markdown",
   "id": "7c4632aa",
   "metadata": {},
   "source": [
    "Cardboard prediction"
   ]
  },
  {
   "cell_type": "code",
   "execution_count": 43,
   "id": "894a0062",
   "metadata": {},
   "outputs": [
    {
     "name": "stdout",
     "output_type": "stream",
     "text": [
      "1/1 [==============================] - 1s 799ms/step\n",
      "Confianza (%): 22.29856848716736\n",
      "La imagen es: 8\n",
      "La imagen es: plastic\n",
      "[[0.0977457  0.01822413 0.06794209 0.13780573 0.02394277 0.07599938\n",
      "  0.05021247 0.0256495  0.22298568 0.04322841 0.04679032 0.18947382]]\n"
     ]
    }
   ],
   "source": [
    "import numpy as np\n",
    "from PIL import Image\n",
    "\n",
    "# Ruta de la imagen en tu ordenador\n",
    "image_path = r\"C:\\Users\\Leticia Martinez\\Desktop\\IRONHACK\\Labs\\Project_V\\photo_test\\cardboard1.jpg\"\n",
    "\n",
    "# Cargar la imagen en color\n",
    "image = Image.open(image_path).convert('RGB')\n",
    "\n",
    "# Redimensionar la imagen a las dimensiones requeridas por el modelo\n",
    "img_width, img_height = 224, 224  # Usar las dimensiones adecuadas para tu modelo\n",
    "image = image.resize((img_width, img_height))\n",
    "\n",
    "# Convertir la imagen en un arreglo numpy\n",
    "image_array = np.array(image)\n",
    "\n",
    "# Añadir una dimensión adicional para el batch\n",
    "image_array = np.expand_dims(image_array, axis=0)\n",
    "\n",
    "# Preprocesar la imagen (normalización, etc.) de acuerdo con el modelo\n",
    "image_array = image_array.astype('float32')\n",
    "image_array /= 255\n",
    "\n",
    "predictions = model.predict(image_array)\n",
    "predicted_class = np.argmax(predictions)\n",
    "confidence = np.max(predictions) * 100\n",
    "\n",
    "print(\"Confianza (%):\", confidence)\n",
    "\n",
    "print(\"La imagen es:\", predicted_class)\n",
    "class_labels = ['battery', 'biological', 'brown-glass', 'cardboard', 'clothes', 'green-glass', 'metal', 'paper', 'plastic', 'shoes', 'trash', 'white-glass']\n",
    "\n",
    "predicted_label = class_labels[predicted_class]\n",
    "print('La imagen es:', predicted_label)\n",
    "print(predictions)"
   ]
  },
  {
   "cell_type": "markdown",
   "id": "b5723aa3",
   "metadata": {},
   "source": [
    "Clothes prediction"
   ]
  },
  {
   "cell_type": "code",
   "execution_count": 44,
   "id": "69e1e852",
   "metadata": {},
   "outputs": [
    {
     "name": "stdout",
     "output_type": "stream",
     "text": [
      "1/1 [==============================] - 0s 63ms/step\n",
      "Confianza (%): 22.076191008090973\n",
      "La imagen es: 8\n",
      "La imagen es: plastic\n",
      "[[0.0985826  0.01801476 0.06834672 0.13927701 0.02328959 0.07531924\n",
      "  0.05061185 0.02567274 0.22076191 0.04325297 0.04735589 0.18951473]]\n"
     ]
    }
   ],
   "source": [
    "import numpy as np\n",
    "from PIL import Image\n",
    "\n",
    "# Ruta de la imagen en tu ordenador\n",
    "image_path = r\"C:\\Users\\Leticia Martinez\\Desktop\\IRONHACK\\Labs\\Project_V\\photo_test\\clothes4.jpg\"\n",
    "\n",
    "# Cargar la imagen en color\n",
    "image = Image.open(image_path).convert('RGB')\n",
    "\n",
    "# Redimensionar la imagen a las dimensiones requeridas por el modelo\n",
    "img_width, img_height = 224, 224  # Usar las dimensiones adecuadas para tu modelo\n",
    "image = image.resize((img_width, img_height))\n",
    "\n",
    "# Convertir la imagen en un arreglo numpy\n",
    "image_array = np.array(image)\n",
    "\n",
    "# Añadir una dimensión adicional para el batch\n",
    "image_array = np.expand_dims(image_array, axis=0)\n",
    "\n",
    "# Preprocesar la imagen (normalización, etc.) de acuerdo con el modelo\n",
    "image_array = image_array.astype('float32')\n",
    "image_array /= 255\n",
    "\n",
    "predictions = model.predict(image_array)\n",
    "predicted_class = np.argmax(predictions)\n",
    "confidence = np.max(predictions) * 100\n",
    "\n",
    "print(\"Confianza (%):\", confidence)\n",
    "\n",
    "print(\"La imagen es:\", predicted_class)\n",
    "class_labels = ['battery', 'biological', 'brown-glass', 'cardboard', 'clothes', 'green-glass', 'metal', 'paper', 'plastic', 'shoes', 'trash', 'white-glass']\n",
    "\n",
    "predicted_label = class_labels[predicted_class]\n",
    "print('La imagen es:', predicted_label)\n",
    "print(predictions)"
   ]
  },
  {
   "cell_type": "code",
   "execution_count": null,
   "id": "9d7fed41",
   "metadata": {},
   "outputs": [],
   "source": [
    "Plastic prediction"
   ]
  },
  {
   "cell_type": "code",
   "execution_count": 46,
   "id": "c11038aa",
   "metadata": {
    "scrolled": true
   },
   "outputs": [
    {
     "name": "stdout",
     "output_type": "stream",
     "text": [
      "1/1 [==============================] - 0s 51ms/step\n",
      "Confianza (%): 22.18020111322403\n",
      "La imagen es: 8\n",
      "La imagen es: plastic\n",
      "[[0.09863587 0.01780101 0.06843559 0.13816716 0.02324804 0.07571573\n",
      "  0.05064634 0.0255187  0.22180201 0.04312144 0.04701281 0.18989532]]\n"
     ]
    }
   ],
   "source": [
    "import numpy as np\n",
    "from PIL import Image\n",
    "\n",
    "# Ruta de la imagen en tu ordenador\n",
    "image_path = r\"C:\\Users\\Leticia Martinez\\Desktop\\IRONHACK\\Labs\\Project_V\\photo_test\\plastic3.jpg\"\n",
    "\n",
    "# Cargar la imagen en color\n",
    "image = Image.open(image_path).convert('RGB')\n",
    "\n",
    "# Redimensionar la imagen a las dimensiones requeridas por el modelo\n",
    "img_width, img_height = 224, 224  # Usar las dimensiones adecuadas para tu modelo\n",
    "image = image.resize((img_width, img_height))\n",
    "\n",
    "# Convertir la imagen en un arreglo numpy\n",
    "image_array = np.array(image)\n",
    "\n",
    "# Añadir una dimensión adicional para el batch\n",
    "image_array = np.expand_dims(image_array, axis=0)\n",
    "\n",
    "# Preprocesar la imagen (normalización, etc.) de acuerdo con el modelo\n",
    "image_array = image_array.astype('float32')\n",
    "image_array /= 255\n",
    "\n",
    "predictions = model.predict(image_array)\n",
    "predicted_class = np.argmax(predictions)\n",
    "confidence = np.max(predictions) * 100\n",
    "\n",
    "print(\"Confianza (%):\", confidence)\n",
    "\n",
    "print(\"La imagen es:\", predicted_class)\n",
    "class_labels = ['battery', 'biological', 'brown-glass', 'cardboard', 'clothes', 'green-glass', 'metal', 'paper', 'plastic', 'shoes', 'trash', 'white-glass']\n",
    "\n",
    "predicted_label = class_labels[predicted_class]\n",
    "print('La imagen es:', predicted_label)\n",
    "print(predictions)"
   ]
  },
  {
   "cell_type": "markdown",
   "id": "fc452999",
   "metadata": {},
   "source": [
    "# 2. Prediction model_0306_efficientnetB0 RE-TRAINED"
   ]
  },
  {
   "cell_type": "code",
   "execution_count": 61,
   "id": "e3398c2f",
   "metadata": {},
   "outputs": [],
   "source": [
    "from tensorflow.keras.models import load_model\n",
    "model_re = load_model(\"model_0306_efficientnetB0_retrain1.h5\")"
   ]
  },
  {
   "cell_type": "markdown",
   "id": "cc131d57",
   "metadata": {},
   "source": [
    "Cardboard prediction"
   ]
  },
  {
   "cell_type": "code",
   "execution_count": 63,
   "id": "f1fac530",
   "metadata": {},
   "outputs": [
    {
     "name": "stdout",
     "output_type": "stream",
     "text": [
      "1/1 [==============================] - 0s 54ms/step\n",
      "Confianza (%): 61.84994578361511\n",
      "La imagen es: 8\n",
      "La imagen es: plastic\n",
      "[[3.55317220e-02 7.90315680e-05 2.86725000e-04 1.13074845e-02\n",
      "  1.43049892e-05 1.12471702e-02 2.95381087e-05 2.57319207e-05\n",
      "  6.18499458e-01 1.97430491e-05 3.01908404e-01 2.10507307e-02]]\n"
     ]
    }
   ],
   "source": [
    "import numpy as np\n",
    "from PIL import Image\n",
    "\n",
    "# Ruta de la imagen en tu ordenador\n",
    "image_path = r\"C:\\Users\\Leticia Martinez\\Desktop\\IRONHACK\\Labs\\Project_V\\photo_test\\cardboard1.jpg\"\n",
    "\n",
    "# Cargar la imagen en color\n",
    "image = Image.open(image_path).convert('RGB')\n",
    "\n",
    "# Redimensionar la imagen a las dimensiones requeridas por el modelo\n",
    "img_width, img_height = 224, 224  # Usar las dimensiones adecuadas para tu modelo\n",
    "image = image.resize((img_width, img_height))\n",
    "\n",
    "# Convertir la imagen en un arreglo numpy\n",
    "image_array = np.array(image)\n",
    "\n",
    "# Añadir una dimensión adicional para el batch\n",
    "image_array = np.expand_dims(image_array, axis=0)\n",
    "\n",
    "# Preprocesar la imagen (normalización, etc.) de acuerdo con el modelo\n",
    "image_array = image_array.astype('float32')\n",
    "image_array /= 255\n",
    "\n",
    "predictions = model_re.predict(image_array)\n",
    "predicted_class = np.argmax(predictions)\n",
    "confidence = np.max(predictions) * 100\n",
    "\n",
    "print(\"Confianza (%):\", confidence)\n",
    "\n",
    "print(\"La imagen es:\", predicted_class)\n",
    "class_labels = ['battery', 'biological', 'brown-glass', 'cardboard', 'clothes', 'green-glass', 'metal', 'paper', 'plastic', 'shoes', 'trash', 'white-glass']\n",
    "\n",
    "predicted_label = class_labels[predicted_class]\n",
    "print('La imagen es:', predicted_label)\n",
    "print(predictions)"
   ]
  },
  {
   "cell_type": "markdown",
   "id": "d42adfbf",
   "metadata": {},
   "source": [
    "Clothes prediction"
   ]
  },
  {
   "cell_type": "code",
   "execution_count": 66,
   "id": "232c5809",
   "metadata": {},
   "outputs": [
    {
     "name": "stdout",
     "output_type": "stream",
     "text": [
      "1/1 [==============================] - 0s 53ms/step\n",
      "Confianza (%): 60.5488657951355\n",
      "La imagen es: 8\n",
      "La imagen es: plastic\n",
      "[[3.7629820e-02 7.8805992e-05 3.0195367e-04 1.2075156e-02 1.3901715e-05\n",
      "  1.1129593e-02 3.1575331e-05 2.6693622e-05 6.0548866e-01 2.0411780e-05\n",
      "  3.1134942e-01 2.1853948e-02]]\n"
     ]
    }
   ],
   "source": [
    "import numpy as np\n",
    "from PIL import Image\n",
    "\n",
    "# Ruta de la imagen en tu ordenador\n",
    "image_path = r\"C:\\Users\\Leticia Martinez\\Desktop\\IRONHACK\\Labs\\Project_V\\photo_test\\clothes4.jpg\"\n",
    "\n",
    "# Cargar la imagen en color\n",
    "image = Image.open(image_path).convert('RGB')\n",
    "\n",
    "# Redimensionar la imagen a las dimensiones requeridas por el modelo\n",
    "img_width, img_height = 224, 224  # Usar las dimensiones adecuadas para tu modelo\n",
    "image = image.resize((img_width, img_height))\n",
    "\n",
    "# Convertir la imagen en un arreglo numpy\n",
    "image_array = np.array(image)\n",
    "\n",
    "# Añadir una dimensión adicional para el batch\n",
    "image_array = np.expand_dims(image_array, axis=0)\n",
    "\n",
    "# Preprocesar la imagen (normalización, etc.) de acuerdo con el modelo\n",
    "image_array = image_array.astype('float32')\n",
    "image_array /= 255\n",
    "\n",
    "predictions = model_re.predict(image_array)\n",
    "predicted_class = np.argmax(predictions)\n",
    "confidence = np.max(predictions) * 100\n",
    "\n",
    "print(\"Confianza (%):\", confidence)\n",
    "\n",
    "print(\"La imagen es:\", predicted_class)\n",
    "class_labels = ['battery', 'biological', 'brown-glass', 'cardboard', 'clothes', 'green-glass', 'metal', 'paper', 'plastic', 'shoes', 'trash', 'white-glass']\n",
    "\n",
    "predicted_label = class_labels[predicted_class]\n",
    "print('La imagen es:', predicted_label)\n",
    "print(predictions)"
   ]
  },
  {
   "cell_type": "code",
   "execution_count": null,
   "id": "fe42b023",
   "metadata": {},
   "outputs": [],
   "source": [
    "Plastic prediction"
   ]
  },
  {
   "cell_type": "code",
   "execution_count": 65,
   "id": "e2669cef",
   "metadata": {
    "scrolled": true
   },
   "outputs": [
    {
     "name": "stdout",
     "output_type": "stream",
     "text": [
      "1/1 [==============================] - 0s 49ms/step\n",
      "Confianza (%): 61.24998927116394\n",
      "La imagen es: 8\n",
      "La imagen es: plastic\n",
      "[[3.7547827e-02 7.5313983e-05 2.9978697e-04 1.1752524e-02 1.3750690e-05\n",
      "  1.1082111e-02 3.1653788e-05 2.6112548e-05 6.1249989e-01 2.0201704e-05\n",
      "  3.0476332e-01 2.1887485e-02]]\n"
     ]
    }
   ],
   "source": [
    "import numpy as np\n",
    "from PIL import Image\n",
    "\n",
    "# Ruta de la imagen en tu ordenador\n",
    "image_path = r\"C:\\Users\\Leticia Martinez\\Desktop\\IRONHACK\\Labs\\Project_V\\photo_test\\plastic3.jpg\"\n",
    "\n",
    "# Cargar la imagen en color\n",
    "image = Image.open(image_path).convert('RGB')\n",
    "\n",
    "# Redimensionar la imagen a las dimensiones requeridas por el modelo\n",
    "img_width, img_height = 224, 224  # Usar las dimensiones adecuadas para tu modelo\n",
    "image = image.resize((img_width, img_height))\n",
    "\n",
    "# Convertir la imagen en un arreglo numpy\n",
    "image_array = np.array(image)\n",
    "\n",
    "# Añadir una dimensión adicional para el batch\n",
    "image_array = np.expand_dims(image_array, axis=0)\n",
    "\n",
    "# Preprocesar la imagen (normalización, etc.) de acuerdo con el modelo\n",
    "image_array = image_array.astype('float32')\n",
    "image_array /= 255\n",
    "\n",
    "predictions = model_re.predict(image_array)\n",
    "predicted_class = np.argmax(predictions)\n",
    "confidence = np.max(predictions) * 100\n",
    "\n",
    "print(\"Confianza (%):\", confidence)\n",
    "\n",
    "print(\"La imagen es:\", predicted_class)\n",
    "class_labels = ['battery', 'biological', 'brown-glass', 'cardboard', 'clothes', 'green-glass', 'metal', 'paper', 'plastic', 'shoes', 'trash', 'white-glass']\n",
    "\n",
    "predicted_label = class_labels[predicted_class]\n",
    "print('La imagen es:', predicted_label)\n",
    "print(predictions)"
   ]
  },
  {
   "cell_type": "markdown",
   "id": "7ff2b79b",
   "metadata": {},
   "source": [
    "# 3. Prediction model_0306_efficientnetB0 v2 + fine tunning"
   ]
  },
  {
   "cell_type": "code",
   "execution_count": 54,
   "id": "205f734d",
   "metadata": {},
   "outputs": [],
   "source": [
    "from tensorflow.keras.models import load_model\n",
    "model = load_model(\"model_0306_efficientnetB0v2.h5.h5\")"
   ]
  },
  {
   "cell_type": "markdown",
   "id": "849ea324",
   "metadata": {},
   "source": [
    "Cardboard prediction"
   ]
  },
  {
   "cell_type": "code",
   "execution_count": 55,
   "id": "318da919",
   "metadata": {},
   "outputs": [
    {
     "name": "stdout",
     "output_type": "stream",
     "text": [
      "1/1 [==============================] - 1s 789ms/step\n",
      "Confianza (%): 23.227618634700775\n",
      "La imagen es: 10\n",
      "La imagen es: trash\n",
      "[[0.03479067 0.01096367 0.02473339 0.13694571 0.00771833 0.15003772\n",
      "  0.01777375 0.01272381 0.17304362 0.01811986 0.23227619 0.18087327]]\n"
     ]
    }
   ],
   "source": [
    "import numpy as np\n",
    "from PIL import Image\n",
    "\n",
    "# Ruta de la imagen en tu ordenador\n",
    "image_path = r\"C:\\Users\\Leticia Martinez\\Desktop\\IRONHACK\\Labs\\Project_V\\photo_test\\cardboard1.jpg\"\n",
    "\n",
    "# Cargar la imagen en color\n",
    "image = Image.open(image_path).convert('RGB')\n",
    "\n",
    "# Redimensionar la imagen a las dimensiones requeridas por el modelo\n",
    "img_width, img_height = 224, 224  # Usar las dimensiones adecuadas para tu modelo\n",
    "image = image.resize((img_width, img_height))\n",
    "\n",
    "# Convertir la imagen en un arreglo numpy\n",
    "image_array = np.array(image)\n",
    "\n",
    "# Añadir una dimensión adicional para el batch\n",
    "image_array = np.expand_dims(image_array, axis=0)\n",
    "\n",
    "# Preprocesar la imagen (normalización, etc.) de acuerdo con el modelo\n",
    "image_array = image_array.astype('float32')\n",
    "image_array /= 255\n",
    "\n",
    "predictions = model.predict(image_array)\n",
    "predicted_class = np.argmax(predictions)\n",
    "confidence = np.max(predictions) * 100\n",
    "\n",
    "print(\"Confianza (%):\", confidence)\n",
    "\n",
    "print(\"La imagen es:\", predicted_class)\n",
    "class_labels = ['battery', 'biological', 'brown-glass', 'cardboard', 'clothes', 'green-glass', 'metal', 'paper', 'plastic', 'shoes', 'trash', 'white-glass']\n",
    "\n",
    "predicted_label = class_labels[predicted_class]\n",
    "print('La imagen es:', predicted_label)\n",
    "print(predictions)"
   ]
  },
  {
   "cell_type": "markdown",
   "id": "da712c81",
   "metadata": {},
   "source": [
    "# 3. Prediction model_0306_efficientnetB0 v2 + fine tunning"
   ]
  },
  {
   "cell_type": "code",
   "execution_count": 54,
   "id": "60906e7a",
   "metadata": {},
   "outputs": [],
   "source": [
    "from tensorflow.keras.models import load_model\n",
    "model = load_model(\"model_0306_efficientnetB0v2.h5.h5\")"
   ]
  },
  {
   "cell_type": "markdown",
   "id": "6852473e",
   "metadata": {},
   "source": [
    "Cardboard prediction"
   ]
  },
  {
   "cell_type": "markdown",
   "id": "4bf96180",
   "metadata": {},
   "source": [
    "Clothes prediction"
   ]
  },
  {
   "cell_type": "code",
   "execution_count": 56,
   "id": "af433a74",
   "metadata": {},
   "outputs": [
    {
     "name": "stdout",
     "output_type": "stream",
     "text": [
      "1/1 [==============================] - 0s 47ms/step\n",
      "Confianza (%): 23.16683679819107\n",
      "La imagen es: 10\n",
      "La imagen es: trash\n",
      "[[0.03537419 0.01083573 0.02458145 0.1377377  0.0075525  0.14871559\n",
      "  0.01766006 0.01275216 0.17369632 0.01840163 0.23166837 0.18102431]]\n"
     ]
    }
   ],
   "source": [
    "import numpy as np\n",
    "from PIL import Image\n",
    "\n",
    "# Ruta de la imagen en tu ordenador\n",
    "image_path = r\"C:\\Users\\Leticia Martinez\\Desktop\\IRONHACK\\Labs\\Project_V\\photo_test\\clothes4.jpg\"\n",
    "\n",
    "# Cargar la imagen en color\n",
    "image = Image.open(image_path).convert('RGB')\n",
    "\n",
    "# Redimensionar la imagen a las dimensiones requeridas por el modelo\n",
    "img_width, img_height = 224, 224  # Usar las dimensiones adecuadas para tu modelo\n",
    "image = image.resize((img_width, img_height))\n",
    "\n",
    "# Convertir la imagen en un arreglo numpy\n",
    "image_array = np.array(image)\n",
    "\n",
    "# Añadir una dimensión adicional para el batch\n",
    "image_array = np.expand_dims(image_array, axis=0)\n",
    "\n",
    "# Preprocesar la imagen (normalización, etc.) de acuerdo con el modelo\n",
    "image_array = image_array.astype('float32')\n",
    "image_array /= 255\n",
    "\n",
    "predictions = model.predict(image_array)\n",
    "predicted_class = np.argmax(predictions)\n",
    "confidence = np.max(predictions) * 100\n",
    "\n",
    "print(\"Confianza (%):\", confidence)\n",
    "\n",
    "print(\"La imagen es:\", predicted_class)\n",
    "class_labels = ['battery', 'biological', 'brown-glass', 'cardboard', 'clothes', 'green-glass', 'metal', 'paper', 'plastic', 'shoes', 'trash', 'white-glass']\n",
    "\n",
    "predicted_label = class_labels[predicted_class]\n",
    "print('La imagen es:', predicted_label)\n",
    "print(predictions)"
   ]
  },
  {
   "cell_type": "code",
   "execution_count": 55,
   "id": "2d386c96",
   "metadata": {},
   "outputs": [
    {
     "name": "stdout",
     "output_type": "stream",
     "text": [
      "1/1 [==============================] - 1s 789ms/step\n",
      "Confianza (%): 23.227618634700775\n",
      "La imagen es: 10\n",
      "La imagen es: trash\n",
      "[[0.03479067 0.01096367 0.02473339 0.13694571 0.00771833 0.15003772\n",
      "  0.01777375 0.01272381 0.17304362 0.01811986 0.23227619 0.18087327]]\n"
     ]
    }
   ],
   "source": [
    "import numpy as np\n",
    "from PIL import Image\n",
    "\n",
    "# Ruta de la imagen en tu ordenador\n",
    "image_path = r\"C:\\Users\\Leticia Martinez\\Desktop\\IRONHACK\\Labs\\Project_V\\photo_test\\cardboard1.jpg\"\n",
    "\n",
    "# Cargar la imagen en color\n",
    "image = Image.open(image_path).convert('RGB')\n",
    "\n",
    "# Redimensionar la imagen a las dimensiones requeridas por el modelo\n",
    "img_width, img_height = 224, 224  # Usar las dimensiones adecuadas para tu modelo\n",
    "image = image.resize((img_width, img_height))\n",
    "\n",
    "# Convertir la imagen en un arreglo numpy\n",
    "image_array = np.array(image)\n",
    "\n",
    "# Añadir una dimensión adicional para el batch\n",
    "image_array = np.expand_dims(image_array, axis=0)\n",
    "\n",
    "# Preprocesar la imagen (normalización, etc.) de acuerdo con el modelo\n",
    "image_array = image_array.astype('float32')\n",
    "image_array /= 255\n",
    "\n",
    "predictions = model.predict(image_array)\n",
    "predicted_class = np.argmax(predictions)\n",
    "confidence = np.max(predictions) * 100\n",
    "\n",
    "print(\"Confianza (%):\", confidence)\n",
    "\n",
    "print(\"La imagen es:\", predicted_class)\n",
    "class_labels = ['battery', 'biological', 'brown-glass', 'cardboard', 'clothes', 'green-glass', 'metal', 'paper', 'plastic', 'shoes', 'trash', 'white-glass']\n",
    "\n",
    "predicted_label = class_labels[predicted_class]\n",
    "print('La imagen es:', predicted_label)\n",
    "print(predictions)"
   ]
  },
  {
   "cell_type": "markdown",
   "id": "97fda497",
   "metadata": {},
   "source": [
    "Plastisc prediction"
   ]
  },
  {
   "cell_type": "code",
   "execution_count": 57,
   "id": "39bdaf51",
   "metadata": {
    "scrolled": true
   },
   "outputs": [
    {
     "name": "stdout",
     "output_type": "stream",
     "text": [
      "1/1 [==============================] - 0s 54ms/step\n",
      "Confianza (%): 23.057889938354492\n",
      "La imagen es: 10\n",
      "La imagen es: trash\n",
      "[[0.03521813 0.0106923  0.02449142 0.13761519 0.00754191 0.14961974\n",
      "  0.01771424 0.01274806 0.17468114 0.01835035 0.2305789  0.18074863]]\n"
     ]
    }
   ],
   "source": [
    "import numpy as np\n",
    "from PIL import Image\n",
    "\n",
    "# Ruta de la imagen en tu ordenador\n",
    "image_path = r\"C:\\Users\\Leticia Martinez\\Desktop\\IRONHACK\\Labs\\Project_V\\photo_test\\plastic3.jpg\"\n",
    "\n",
    "# Cargar la imagen en color\n",
    "image = Image.open(image_path).convert('RGB')\n",
    "\n",
    "# Redimensionar la imagen a las dimensiones requeridas por el modelo\n",
    "img_width, img_height = 224, 224  # Usar las dimensiones adecuadas para tu modelo\n",
    "image = image.resize((img_width, img_height))\n",
    "\n",
    "# Convertir la imagen en un arreglo numpy\n",
    "image_array = np.array(image)\n",
    "\n",
    "# Añadir una dimensión adicional para el batch\n",
    "image_array = np.expand_dims(image_array, axis=0)\n",
    "\n",
    "# Preprocesar la imagen (normalización, etc.) de acuerdo con el modelo\n",
    "image_array = image_array.astype('float32')\n",
    "image_array /= 255\n",
    "\n",
    "predictions = model.predict(image_array)\n",
    "predicted_class = np.argmax(predictions)\n",
    "confidence = np.max(predictions) * 100\n",
    "\n",
    "print(\"Confianza (%):\", confidence)\n",
    "\n",
    "print(\"La imagen es:\", predicted_class)\n",
    "class_labels = ['battery', 'biological', 'brown-glass', 'cardboard', 'clothes', 'green-glass', 'metal', 'paper', 'plastic', 'shoes', 'trash', 'white-glass']\n",
    "\n",
    "predicted_label = class_labels[predicted_class]\n",
    "print('La imagen es:', predicted_label)\n",
    "print(predictions)"
   ]
  },
  {
   "cell_type": "markdown",
   "id": "66174ae4",
   "metadata": {},
   "source": [
    "# 4. Prediction model_RESNET"
   ]
  },
  {
   "cell_type": "code",
   "execution_count": 42,
   "id": "224bb9ab",
   "metadata": {},
   "outputs": [],
   "source": [
    "from tensorflow.keras.models import load_model\n",
    "model = load_model(\"models/resnet50.h5.h5\")"
   ]
  },
  {
   "cell_type": "code",
   "execution_count": 43,
   "id": "4b41b5ed",
   "metadata": {},
   "outputs": [
    {
     "name": "stdout",
     "output_type": "stream",
     "text": [
      "1/1 [==============================] - 1s 758ms/step\n",
      "Confianza (%): 73.62744808197021\n",
      "La imagen es: 11\n",
      "La imagen es: white-glass\n",
      "[[1.7637517e-01 1.6793997e-04 1.2997993e-02 1.2714143e-03 2.2231474e-05\n",
      "  1.6082486e-03 3.2514371e-03 1.0307574e-03 6.1790239e-02 1.2142169e-03\n",
      "  3.9958060e-03 7.3627448e-01]]\n"
     ]
    }
   ],
   "source": [
    "import numpy as np\n",
    "from PIL import Image\n",
    "\n",
    "# Ruta de la imagen en tu ordenador\n",
    "image_path = r\"C:\\Users\\Leticia Martinez\\Desktop\\IRONHACK\\Labs\\Project_V\\photo_test\\clothes4.jpg\"\n",
    "\n",
    "# Cargar la imagen en color\n",
    "image = Image.open(image_path).convert('RGB')\n",
    "\n",
    "# Redimensionar la imagen a las dimensiones requeridas por el modelo\n",
    "img_width, img_height = 224, 224  # Usar las dimensiones adecuadas para tu modelo\n",
    "image = image.resize((img_width, img_height))\n",
    "\n",
    "# Convertir la imagen en un arreglo numpy\n",
    "image_array = np.array(image)\n",
    "\n",
    "# Añadir una dimensión adicional para el batch\n",
    "image_array = np.expand_dims(image_array, axis=0)\n",
    "\n",
    "# Preprocesar la imagen (normalización, etc.) de acuerdo con el modelo\n",
    "image_array = image_array.astype('float32')\n",
    "image_array /= 255\n",
    "\n",
    "predictions = model.predict(image_array)\n",
    "predicted_class = np.argmax(predictions)\n",
    "confidence = np.max(predictions) * 100\n",
    "\n",
    "print(\"Confianza (%):\", confidence)\n",
    "\n",
    "print(\"La imagen es:\", predicted_class)\n",
    "class_labels = ['battery', 'biological', 'brown-glass', 'cardboard', 'clothes', 'green-glass', 'metal', 'paper', 'plastic', 'shoes', 'trash', 'white-glass']\n",
    "\n",
    "predicted_label = class_labels[predicted_class]\n",
    "print('La imagen es:', predicted_label)\n",
    "print(predictions)"
   ]
  },
  {
   "cell_type": "code",
   "execution_count": 44,
   "id": "73d5e23a",
   "metadata": {},
   "outputs": [
    {
     "name": "stdout",
     "output_type": "stream",
     "text": [
      "1/1 [==============================] - 0s 111ms/step\n",
      "Confianza (%): 71.86431288719177\n",
      "La imagen es: 11\n",
      "La imagen es: white-glass\n",
      "[[1.6974513e-01 2.0077146e-04 1.2239012e-02 1.8015490e-03 3.2234431e-05\n",
      "  1.5832826e-03 4.1479710e-03 1.3056914e-03 8.4268942e-02 1.3796078e-03\n",
      "  4.6526454e-03 7.1864313e-01]]\n"
     ]
    }
   ],
   "source": [
    "import numpy as np\n",
    "from PIL import Image\n",
    "\n",
    "# Ruta de la imagen en tu ordenador\n",
    "image_path = r\"C:\\Users\\Leticia Martinez\\Desktop\\IRONHACK\\Labs\\Project_V\\photo_test\\plastic3.jpg\"\n",
    "\n",
    "# Cargar la imagen en color\n",
    "image = Image.open(image_path).convert('RGB')\n",
    "\n",
    "# Redimensionar la imagen a las dimensiones requeridas por el modelo\n",
    "img_width, img_height = 224, 224  # Usar las dimensiones adecuadas para tu modelo\n",
    "image = image.resize((img_width, img_height))\n",
    "\n",
    "# Convertir la imagen en un arreglo numpy\n",
    "image_array = np.array(image)\n",
    "\n",
    "# Añadir una dimensión adicional para el batch\n",
    "image_array = np.expand_dims(image_array, axis=0)\n",
    "\n",
    "# Preprocesar la imagen (normalización, etc.) de acuerdo con el modelo\n",
    "image_array = image_array.astype('float32')\n",
    "image_array /= 255\n",
    "\n",
    "predictions = model.predict(image_array)\n",
    "predicted_class = np.argmax(predictions)\n",
    "confidence = np.max(predictions) * 100\n",
    "\n",
    "print(\"Confianza (%):\", confidence)\n",
    "\n",
    "print(\"La imagen es:\", predicted_class)\n",
    "class_labels = ['battery', 'biological', 'brown-glass', 'cardboard', 'clothes', 'green-glass', 'metal', 'paper', 'plastic', 'shoes', 'trash', 'white-glass']\n",
    "\n",
    "predicted_label = class_labels[predicted_class]\n",
    "print('La imagen es:', predicted_label)\n",
    "print(predictions)"
   ]
  },
  {
   "cell_type": "code",
   "execution_count": null,
   "id": "a6a35392",
   "metadata": {},
   "outputs": [],
   "source": []
  }
 ],
 "metadata": {
  "kernelspec": {
   "display_name": "keras5",
   "language": "python",
   "name": "keras5"
  },
  "language_info": {
   "codemirror_mode": {
    "name": "ipython",
    "version": 3
   },
   "file_extension": ".py",
   "mimetype": "text/x-python",
   "name": "python",
   "nbconvert_exporter": "python",
   "pygments_lexer": "ipython3",
   "version": "3.10.9"
  }
 },
 "nbformat": 4,
 "nbformat_minor": 5
}
