{
 "cells": [
  {
   "cell_type": "code",
   "execution_count": 1,
   "id": "e29c69d4",
   "metadata": {},
   "outputs": [],
   "source": [
    "import numpy as np \n",
    "import pandas as pd \n",
    "import os\n",
    "import cv2\n",
    "from PIL import Image\n",
    "from tensorflow.keras.layers import Input, Lambda, Dense, Flatten\n",
    "from tensorflow.keras.models import Model\n",
    "from tensorflow.keras.preprocessing import image\n",
    "from tensorflow.keras.preprocessing.image import ImageDataGenerator\n",
    "from tensorflow.keras.models import Sequential\n",
    "import tensorflow as tf \n",
    "from tensorflow.keras.layers import Dense, Dropout, Flatten, Conv2D, MaxPool2D, BatchNormalization,MaxPooling2D,BatchNormalization,\\\n",
    "                        Permute, TimeDistributed, GlobalAveragePooling2D, SeparableConv2D,\\\n",
    "ZeroPadding2D, Convolution2D, ZeroPadding2D, Conv2DTranspose,ReLU, UpSampling2D, Concatenate, Conv2DTranspose"
   ]
  },
  {
   "cell_type": "code",
   "execution_count": 2,
   "id": "5d4e1ecc",
   "metadata": {},
   "outputs": [
    {
     "data": {
      "text/html": [
       "<div>\n",
       "<style scoped>\n",
       "    .dataframe tbody tr th:only-of-type {\n",
       "        vertical-align: middle;\n",
       "    }\n",
       "\n",
       "    .dataframe tbody tr th {\n",
       "        vertical-align: top;\n",
       "    }\n",
       "\n",
       "    .dataframe thead th {\n",
       "        text-align: right;\n",
       "    }\n",
       "</style>\n",
       "<table border=\"1\" class=\"dataframe\">\n",
       "  <thead>\n",
       "    <tr style=\"text-align: right;\">\n",
       "      <th></th>\n",
       "      <th>Image</th>\n",
       "      <th>Category</th>\n",
       "    </tr>\n",
       "  </thead>\n",
       "  <tbody>\n",
       "    <tr>\n",
       "      <th>0</th>\n",
       "      <td>green-glass/green-glass487.jpg</td>\n",
       "      <td>4</td>\n",
       "    </tr>\n",
       "    <tr>\n",
       "      <th>1</th>\n",
       "      <td>metal/metal378.jpg</td>\n",
       "      <td>5</td>\n",
       "    </tr>\n",
       "    <tr>\n",
       "      <th>2</th>\n",
       "      <td>metal/metal743.jpg</td>\n",
       "      <td>5</td>\n",
       "    </tr>\n",
       "    <tr>\n",
       "      <th>3</th>\n",
       "      <td>metal/metal342.jpg</td>\n",
       "      <td>5</td>\n",
       "    </tr>\n",
       "    <tr>\n",
       "      <th>4</th>\n",
       "      <td>trash/trash277.jpg</td>\n",
       "      <td>8</td>\n",
       "    </tr>\n",
       "    <tr>\n",
       "      <th>...</th>\n",
       "      <td>...</td>\n",
       "      <td>...</td>\n",
       "    </tr>\n",
       "    <tr>\n",
       "      <th>8208</th>\n",
       "      <td>white-glass/white-glass637.jpg</td>\n",
       "      <td>9</td>\n",
       "    </tr>\n",
       "    <tr>\n",
       "      <th>8209</th>\n",
       "      <td>white-glass/white-glass47.jpg</td>\n",
       "      <td>9</td>\n",
       "    </tr>\n",
       "    <tr>\n",
       "      <th>8210</th>\n",
       "      <td>battery/battery553.jpg</td>\n",
       "      <td>0</td>\n",
       "    </tr>\n",
       "    <tr>\n",
       "      <th>8211</th>\n",
       "      <td>biological/biological535.jpg</td>\n",
       "      <td>1</td>\n",
       "    </tr>\n",
       "    <tr>\n",
       "      <th>8212</th>\n",
       "      <td>trash/trash40.jpg</td>\n",
       "      <td>8</td>\n",
       "    </tr>\n",
       "  </tbody>\n",
       "</table>\n",
       "<p>8213 rows × 2 columns</p>\n",
       "</div>"
      ],
      "text/plain": [
       "                               Image  Category\n",
       "0     green-glass/green-glass487.jpg         4\n",
       "1                 metal/metal378.jpg         5\n",
       "2                 metal/metal743.jpg         5\n",
       "3                 metal/metal342.jpg         5\n",
       "4                 trash/trash277.jpg         8\n",
       "...                              ...       ...\n",
       "8208  white-glass/white-glass637.jpg         9\n",
       "8209   white-glass/white-glass47.jpg         9\n",
       "8210          battery/battery553.jpg         0\n",
       "8211    biological/biological535.jpg         1\n",
       "8212               trash/trash40.jpg         8\n",
       "\n",
       "[8213 rows x 2 columns]"
      ]
     },
     "execution_count": 2,
     "metadata": {},
     "output_type": "execute_result"
    }
   ],
   "source": [
    "import pandas as pd\n",
    "\n",
    "data = pd.read_csv('datasets/df_f_new.csv')\n",
    "\n",
    "# Mezclar todas las filas\n",
    "data_shuffled = data.sample(frac=1).reset_index(drop=True)\n",
    "\n",
    "data_shuffled"
   ]
  },
  {
   "cell_type": "code",
   "execution_count": 3,
   "id": "277af03f",
   "metadata": {},
   "outputs": [],
   "source": [
    "def split_data(data_shuffled,ratio):\n",
    "    last=int(len(data_shuffled)*ratio)\n",
    "    return data[:last], data[last:]"
   ]
  },
  {
   "cell_type": "code",
   "execution_count": 4,
   "id": "4198dbff",
   "metadata": {},
   "outputs": [
    {
     "data": {
      "text/plain": [
       "Category\n",
       "6    1050\n",
       "1     985\n",
       "0     945\n",
       "3     891\n",
       "7     865\n",
       "9     775\n",
       "5     769\n",
       "8     697\n",
       "4     629\n",
       "2     607\n",
       "Name: count, dtype: int64"
      ]
     },
     "execution_count": 4,
     "metadata": {},
     "output_type": "execute_result"
    }
   ],
   "source": [
    "data_shuffled['Category'].value_counts()"
   ]
  },
  {
   "cell_type": "code",
   "execution_count": 8,
   "id": "0f82ae55",
   "metadata": {},
   "outputs": [],
   "source": [
    "import numpy as np\n",
    "\n",
    "def split_data(data_shuffled, train_ratio):\n",
    "    # Obtener las categorías únicas en los datos\n",
    "    unique_categories = np.unique(data_shuffled['Category'])\n",
    "\n",
    "    # Dividir los datos en conjunto de entrenamiento y validación para cada categoría\n",
    "    train_data = []\n",
    "    valid_data = []\n",
    "    for category in unique_categories:\n",
    "        category_data = data_shuffled[data_shuffled['Category'] == category]\n",
    "        train_size = int(len(category_data) * train_ratio)\n",
    "        train_category = category_data[:train_size]\n",
    "        valid_category = category_data[train_size:]\n",
    "        train_data.append(train_category)\n",
    "        valid_data.append(valid_category)\n",
    "\n",
    "    # Combinar los datos de todas las categorías en un solo conjunto de entrenamiento y validación\n",
    "    train = pd.concat(train_data)\n",
    "    test = pd.concat(valid_data)\n",
    "\n",
    "    return train, test\n"
   ]
  },
  {
   "cell_type": "code",
   "execution_count": 9,
   "id": "feaa69f7",
   "metadata": {},
   "outputs": [],
   "source": [
    "train, test = split_data(data_shuffled, 0.8)"
   ]
  },
  {
   "cell_type": "code",
   "execution_count": 11,
   "id": "18a5c674",
   "metadata": {},
   "outputs": [
    {
     "data": {
      "text/plain": [
       "Category\n",
       "6    210\n",
       "1    197\n",
       "0    189\n",
       "3    179\n",
       "7    173\n",
       "9    155\n",
       "5    154\n",
       "8    140\n",
       "4    126\n",
       "2    122\n",
       "Name: count, dtype: int64"
      ]
     },
     "execution_count": 11,
     "metadata": {},
     "output_type": "execute_result"
    }
   ],
   "source": [
    "test['Category'].value_counts()"
   ]
  },
  {
   "cell_type": "code",
   "execution_count": 12,
   "id": "570d12ed",
   "metadata": {},
   "outputs": [],
   "source": [
    "train.to_csv('train_kaggle.csv',index=False)\n",
    "test.to_csv('test_kaggle.csv',index=False)"
   ]
  },
  {
   "cell_type": "code",
   "execution_count": 13,
   "id": "65a998de",
   "metadata": {},
   "outputs": [],
   "source": [
    "from sklearn.utils import resample"
   ]
  },
  {
   "cell_type": "code",
   "execution_count": 14,
   "id": "78709a6b",
   "metadata": {},
   "outputs": [
    {
     "data": {
      "text/plain": [
       "Category\n",
       "6    840\n",
       "1    788\n",
       "0    756\n",
       "3    712\n",
       "7    692\n",
       "9    620\n",
       "5    615\n",
       "8    557\n",
       "4    503\n",
       "2    485\n",
       "Name: count, dtype: int64"
      ]
     },
     "execution_count": 14,
     "metadata": {},
     "output_type": "execute_result"
    }
   ],
   "source": [
    "train['Category'].value_counts()"
   ]
  },
  {
   "cell_type": "code",
   "execution_count": 16,
   "id": "ea43d093",
   "metadata": {},
   "outputs": [],
   "source": [
    "train,valid=split_data(train,.9)"
   ]
  },
  {
   "cell_type": "code",
   "execution_count": 24,
   "id": "b8fd0cb8",
   "metadata": {},
   "outputs": [
    {
     "data": {
      "text/html": [
       "<div>\n",
       "<style scoped>\n",
       "    .dataframe tbody tr th:only-of-type {\n",
       "        vertical-align: middle;\n",
       "    }\n",
       "\n",
       "    .dataframe tbody tr th {\n",
       "        vertical-align: top;\n",
       "    }\n",
       "\n",
       "    .dataframe thead th {\n",
       "        text-align: right;\n",
       "    }\n",
       "</style>\n",
       "<table border=\"1\" class=\"dataframe\">\n",
       "  <thead>\n",
       "    <tr style=\"text-align: right;\">\n",
       "      <th></th>\n",
       "      <th>Image</th>\n",
       "      <th>Category</th>\n",
       "    </tr>\n",
       "  </thead>\n",
       "  <tbody>\n",
       "    <tr>\n",
       "      <th>21</th>\n",
       "      <td>battery/battery403.jpg</td>\n",
       "      <td>0</td>\n",
       "    </tr>\n",
       "    <tr>\n",
       "      <th>35</th>\n",
       "      <td>battery/battery182.jpg</td>\n",
       "      <td>0</td>\n",
       "    </tr>\n",
       "    <tr>\n",
       "      <th>38</th>\n",
       "      <td>battery/battery393.jpg</td>\n",
       "      <td>0</td>\n",
       "    </tr>\n",
       "    <tr>\n",
       "      <th>51</th>\n",
       "      <td>battery/battery464.jpg</td>\n",
       "      <td>0</td>\n",
       "    </tr>\n",
       "    <tr>\n",
       "      <th>66</th>\n",
       "      <td>battery/battery231.jpg</td>\n",
       "      <td>0</td>\n",
       "    </tr>\n",
       "    <tr>\n",
       "      <th>...</th>\n",
       "      <td>...</td>\n",
       "      <td>...</td>\n",
       "    </tr>\n",
       "    <tr>\n",
       "      <th>5828</th>\n",
       "      <td>white-glass/white-glass282.jpg</td>\n",
       "      <td>9</td>\n",
       "    </tr>\n",
       "    <tr>\n",
       "      <th>5837</th>\n",
       "      <td>white-glass/white-glass561.jpg</td>\n",
       "      <td>9</td>\n",
       "    </tr>\n",
       "    <tr>\n",
       "      <th>5878</th>\n",
       "      <td>white-glass/white-glass679.jpg</td>\n",
       "      <td>9</td>\n",
       "    </tr>\n",
       "    <tr>\n",
       "      <th>5889</th>\n",
       "      <td>white-glass/white-glass688.jpg</td>\n",
       "      <td>9</td>\n",
       "    </tr>\n",
       "    <tr>\n",
       "      <th>5913</th>\n",
       "      <td>white-glass/white-glass513.jpg</td>\n",
       "      <td>9</td>\n",
       "    </tr>\n",
       "  </tbody>\n",
       "</table>\n",
       "<p>5907 rows × 2 columns</p>\n",
       "</div>"
      ],
      "text/plain": [
       "                               Image  Category\n",
       "21            battery/battery403.jpg         0\n",
       "35            battery/battery182.jpg         0\n",
       "38            battery/battery393.jpg         0\n",
       "51            battery/battery464.jpg         0\n",
       "66            battery/battery231.jpg         0\n",
       "...                              ...       ...\n",
       "5828  white-glass/white-glass282.jpg         9\n",
       "5837  white-glass/white-glass561.jpg         9\n",
       "5878  white-glass/white-glass679.jpg         9\n",
       "5889  white-glass/white-glass688.jpg         9\n",
       "5913  white-glass/white-glass513.jpg         9\n",
       "\n",
       "[5907 rows x 2 columns]"
      ]
     },
     "execution_count": 24,
     "metadata": {},
     "output_type": "execute_result"
    }
   ],
   "source": [
    "train"
   ]
  },
  {
   "cell_type": "code",
   "execution_count": 17,
   "id": "209d4f9c",
   "metadata": {},
   "outputs": [
    {
     "data": {
      "text/plain": [
       "Category\n",
       "6    756\n",
       "1    709\n",
       "0    680\n",
       "3    640\n",
       "7    622\n",
       "9    558\n",
       "5    553\n",
       "8    501\n",
       "4    452\n",
       "2    436\n",
       "Name: count, dtype: int64"
      ]
     },
     "execution_count": 17,
     "metadata": {},
     "output_type": "execute_result"
    }
   ],
   "source": [
    "train[\"Category\"].value_counts()"
   ]
  },
  {
   "cell_type": "code",
   "execution_count": 18,
   "id": "c1f82857",
   "metadata": {},
   "outputs": [
    {
     "data": {
      "text/plain": [
       "Category\n",
       "6    84\n",
       "1    79\n",
       "0    76\n",
       "3    72\n",
       "7    70\n",
       "5    62\n",
       "9    62\n",
       "8    56\n",
       "4    51\n",
       "2    49\n",
       "Name: count, dtype: int64"
      ]
     },
     "execution_count": 18,
     "metadata": {},
     "output_type": "execute_result"
    }
   ],
   "source": [
    "valid[\"Category\"].value_counts()"
   ]
  },
  {
   "cell_type": "code",
   "execution_count": 31,
   "id": "16cf6207",
   "metadata": {},
   "outputs": [
    {
     "data": {
      "text/html": [
       "<div>\n",
       "<style scoped>\n",
       "    .dataframe tbody tr th:only-of-type {\n",
       "        vertical-align: middle;\n",
       "    }\n",
       "\n",
       "    .dataframe tbody tr th {\n",
       "        vertical-align: top;\n",
       "    }\n",
       "\n",
       "    .dataframe thead th {\n",
       "        text-align: right;\n",
       "    }\n",
       "</style>\n",
       "<table border=\"1\" class=\"dataframe\">\n",
       "  <thead>\n",
       "    <tr style=\"text-align: right;\">\n",
       "      <th></th>\n",
       "      <th>Image</th>\n",
       "      <th>Category</th>\n",
       "    </tr>\n",
       "  </thead>\n",
       "  <tbody>\n",
       "    <tr>\n",
       "      <th>5913</th>\n",
       "      <td>plastic/plastic132.jpg</td>\n",
       "      <td>7</td>\n",
       "    </tr>\n",
       "    <tr>\n",
       "      <th>5914</th>\n",
       "      <td>plastic/plastic133.jpg</td>\n",
       "      <td>7</td>\n",
       "    </tr>\n",
       "    <tr>\n",
       "      <th>5915</th>\n",
       "      <td>plastic/plastic134.jpg</td>\n",
       "      <td>7</td>\n",
       "    </tr>\n",
       "    <tr>\n",
       "      <th>5916</th>\n",
       "      <td>plastic/plastic135.jpg</td>\n",
       "      <td>7</td>\n",
       "    </tr>\n",
       "    <tr>\n",
       "      <th>5917</th>\n",
       "      <td>plastic/plastic136.jpg</td>\n",
       "      <td>7</td>\n",
       "    </tr>\n",
       "    <tr>\n",
       "      <th>...</th>\n",
       "      <td>...</td>\n",
       "      <td>...</td>\n",
       "    </tr>\n",
       "    <tr>\n",
       "      <th>8208</th>\n",
       "      <td>white-glass/white-glass95.jpg</td>\n",
       "      <td>9</td>\n",
       "    </tr>\n",
       "    <tr>\n",
       "      <th>8209</th>\n",
       "      <td>white-glass/white-glass96.jpg</td>\n",
       "      <td>9</td>\n",
       "    </tr>\n",
       "    <tr>\n",
       "      <th>8210</th>\n",
       "      <td>white-glass/white-glass97.jpg</td>\n",
       "      <td>9</td>\n",
       "    </tr>\n",
       "    <tr>\n",
       "      <th>8211</th>\n",
       "      <td>white-glass/white-glass98.jpg</td>\n",
       "      <td>9</td>\n",
       "    </tr>\n",
       "    <tr>\n",
       "      <th>8212</th>\n",
       "      <td>white-glass/white-glass99.jpg</td>\n",
       "      <td>9</td>\n",
       "    </tr>\n",
       "  </tbody>\n",
       "</table>\n",
       "<p>2300 rows × 2 columns</p>\n",
       "</div>"
      ],
      "text/plain": [
       "                              Image  Category\n",
       "5913         plastic/plastic132.jpg         7\n",
       "5914         plastic/plastic133.jpg         7\n",
       "5915         plastic/plastic134.jpg         7\n",
       "5916         plastic/plastic135.jpg         7\n",
       "5917         plastic/plastic136.jpg         7\n",
       "...                             ...       ...\n",
       "8208  white-glass/white-glass95.jpg         9\n",
       "8209  white-glass/white-glass96.jpg         9\n",
       "8210  white-glass/white-glass97.jpg         9\n",
       "8211  white-glass/white-glass98.jpg         9\n",
       "8212  white-glass/white-glass99.jpg         9\n",
       "\n",
       "[2300 rows x 2 columns]"
      ]
     },
     "execution_count": 31,
     "metadata": {},
     "output_type": "execute_result"
    }
   ],
   "source": [
    "valid"
   ]
  },
  {
   "cell_type": "code",
   "execution_count": 19,
   "id": "4065aeb0",
   "metadata": {},
   "outputs": [
    {
     "data": {
      "text/html": [
       "<div>\n",
       "<style scoped>\n",
       "    .dataframe tbody tr th:only-of-type {\n",
       "        vertical-align: middle;\n",
       "    }\n",
       "\n",
       "    .dataframe tbody tr th {\n",
       "        vertical-align: top;\n",
       "    }\n",
       "\n",
       "    .dataframe thead th {\n",
       "        text-align: right;\n",
       "    }\n",
       "</style>\n",
       "<table border=\"1\" class=\"dataframe\">\n",
       "  <thead>\n",
       "    <tr style=\"text-align: right;\">\n",
       "      <th></th>\n",
       "      <th>Image</th>\n",
       "      <th>Category</th>\n",
       "    </tr>\n",
       "  </thead>\n",
       "  <tbody>\n",
       "    <tr>\n",
       "      <th>6617</th>\n",
       "      <td>battery/battery344.jpg</td>\n",
       "      <td>0</td>\n",
       "    </tr>\n",
       "    <tr>\n",
       "      <th>6620</th>\n",
       "      <td>battery/battery944.jpg</td>\n",
       "      <td>0</td>\n",
       "    </tr>\n",
       "    <tr>\n",
       "      <th>6644</th>\n",
       "      <td>battery/battery657.jpg</td>\n",
       "      <td>0</td>\n",
       "    </tr>\n",
       "    <tr>\n",
       "      <th>6645</th>\n",
       "      <td>battery/battery495.jpg</td>\n",
       "      <td>0</td>\n",
       "    </tr>\n",
       "    <tr>\n",
       "      <th>6646</th>\n",
       "      <td>battery/battery359.jpg</td>\n",
       "      <td>0</td>\n",
       "    </tr>\n",
       "    <tr>\n",
       "      <th>...</th>\n",
       "      <td>...</td>\n",
       "      <td>...</td>\n",
       "    </tr>\n",
       "    <tr>\n",
       "      <th>8204</th>\n",
       "      <td>white-glass/white-glass62.jpg</td>\n",
       "      <td>9</td>\n",
       "    </tr>\n",
       "    <tr>\n",
       "      <th>8205</th>\n",
       "      <td>white-glass/white-glass324.jpg</td>\n",
       "      <td>9</td>\n",
       "    </tr>\n",
       "    <tr>\n",
       "      <th>8207</th>\n",
       "      <td>white-glass/white-glass300.jpg</td>\n",
       "      <td>9</td>\n",
       "    </tr>\n",
       "    <tr>\n",
       "      <th>8208</th>\n",
       "      <td>white-glass/white-glass637.jpg</td>\n",
       "      <td>9</td>\n",
       "    </tr>\n",
       "    <tr>\n",
       "      <th>8209</th>\n",
       "      <td>white-glass/white-glass47.jpg</td>\n",
       "      <td>9</td>\n",
       "    </tr>\n",
       "  </tbody>\n",
       "</table>\n",
       "<p>1645 rows × 2 columns</p>\n",
       "</div>"
      ],
      "text/plain": [
       "                               Image  Category\n",
       "6617          battery/battery344.jpg         0\n",
       "6620          battery/battery944.jpg         0\n",
       "6644          battery/battery657.jpg         0\n",
       "6645          battery/battery495.jpg         0\n",
       "6646          battery/battery359.jpg         0\n",
       "...                              ...       ...\n",
       "8204   white-glass/white-glass62.jpg         9\n",
       "8205  white-glass/white-glass324.jpg         9\n",
       "8207  white-glass/white-glass300.jpg         9\n",
       "8208  white-glass/white-glass637.jpg         9\n",
       "8209   white-glass/white-glass47.jpg         9\n",
       "\n",
       "[1645 rows x 2 columns]"
      ]
     },
     "execution_count": 19,
     "metadata": {},
     "output_type": "execute_result"
    }
   ],
   "source": [
    "test"
   ]
  },
  {
   "cell_type": "code",
   "execution_count": 22,
   "id": "a6905537",
   "metadata": {},
   "outputs": [
    {
     "data": {
      "text/plain": [
       "Category\n",
       "6    84\n",
       "1    79\n",
       "0    76\n",
       "3    72\n",
       "7    70\n",
       "5    62\n",
       "9    62\n",
       "8    56\n",
       "4    51\n",
       "2    49\n",
       "Name: count, dtype: int64"
      ]
     },
     "execution_count": 22,
     "metadata": {},
     "output_type": "execute_result"
    }
   ],
   "source": [
    "valid[\"Category\"].value_counts()"
   ]
  },
  {
   "cell_type": "code",
   "execution_count": 25,
   "id": "7da715c6",
   "metadata": {},
   "outputs": [],
   "source": [
    "data_directory = \"new_garbage_classification/\""
   ]
  },
  {
   "cell_type": "code",
   "execution_count": 26,
   "id": "792a73c4",
   "metadata": {},
   "outputs": [
    {
     "name": "stdout",
     "output_type": "stream",
     "text": [
      "Found 5907 validated image filenames.\n",
      "Found 661 validated image filenames.\n"
     ]
    }
   ],
   "source": [
    "batch_size = 16\n",
    "size=224\n",
    "epoch=50\n",
    "train_datagen = ImageDataGenerator(rescale=1./255)\n",
    "train_generator = train_datagen.flow_from_dataframe(\n",
    "    dataframe=train,\n",
    "    directory=data_directory, \n",
    "    x_col='Image',\n",
    "    y_col='Category',\n",
    "    target_size=(size, size),\n",
    "    batch_size=batch_size,\n",
    "    class_mode=\"input\"\n",
    "    )\n",
    "valid_datagen = ImageDataGenerator(rescale=1./255)\n",
    "valid_generator = train_datagen.flow_from_dataframe(\n",
    "    dataframe=valid,\n",
    "    directory=data_directory, \n",
    "    x_col='Image',\n",
    "    y_col='Category',\n",
    "    target_size=(size, size),\n",
    "    batch_size=batch_size,\n",
    "    class_mode=\"input\"\n",
    "    )"
   ]
  },
  {
   "cell_type": "code",
   "execution_count": 27,
   "id": "e9fbf861",
   "metadata": {},
   "outputs": [],
   "source": [
    "def se_block_enc(inputs,alpha):\n",
    "    input_channels = inputs.shape[-1]\n",
    "    x = tf.keras.layers.GlobalAveragePooling2D()(inputs)\n",
    "    x = tf.keras.layers.Dense(units=alpha, activation=\"relu\")(x)    \n",
    "    x = tf.keras.layers.Dense(units=input_channels, activation=\"sigmoid\")(x)    \n",
    "    x = tf.reshape(x, [-1, 1, 1, input_channels])\n",
    "    x = inputs * x\n",
    "    return x"
   ]
  },
  {
   "cell_type": "code",
   "execution_count": 29,
   "id": "a2acce41",
   "metadata": {},
   "outputs": [],
   "source": [
    "input_img = Input(shape=(size,size, 3))  \n",
    "x = Conv2D(48, (3, 3), activation='relu', padding='same')(input_img)\n",
    "x=se_block_enc(x,20)\n",
    "x = MaxPooling2D((2, 2), padding='same')(x)\n",
    "x = Conv2D(96, (3, 3), activation='relu', padding='same')(x)\n",
    "x=se_block_enc(x,30)\n",
    "x = MaxPooling2D((2, 2), padding='same')(x)\n",
    "x = Conv2D(192, (3, 3), activation='relu', padding='same')(x)\n",
    "x=se_block_enc(x,50)\n",
    "x = MaxPooling2D((2, 2), padding='same')(x)\n",
    "encoded = Conv2D(32, (1, 1), activation='relu', padding='same')(x)\n",
    "\n",
    "# Bottolneck\n",
    "latentSize = (28,28,32)\n",
    "\n",
    "# DECODER\n",
    "direct_input = Input(shape=latentSize)\n",
    "x = Conv2D(192, (1, 1), activation='relu', padding='same')(direct_input)\n",
    "x = UpSampling2D((2, 2))(x)\n",
    "x = Conv2D(192, (3, 3), activation='relu', padding='same')(x)\n",
    "x = UpSampling2D((2, 2))(x)\n",
    "x = Conv2D(96, (3, 3), activation='relu', padding='same')(x)\n",
    "x = UpSampling2D((2, 2))(x)\n",
    "x = Conv2D(48, (3, 3), activation='relu', padding='same')(x)\n",
    "x = Conv2D(192, (3, 3), activation='relu', padding='same')(x)\n",
    "\n",
    "decoded = Conv2D(3, (3, 3), activation='sigmoid', padding='same')(x)\n",
    "\n",
    "# COMPILE\n",
    "encoder = Model(input_img, encoded)\n",
    "decoder = Model(direct_input, decoded)\n",
    "autoencoder = Model(input_img, decoder(encoded))"
   ]
  },
  {
   "cell_type": "code",
   "execution_count": 40,
   "id": "4cc88fa3",
   "metadata": {},
   "outputs": [
    {
     "name": "stdout",
     "output_type": "stream",
     "text": [
      "Model: \"model_2\"\n",
      "__________________________________________________________________________________________________\n",
      " Layer (type)                   Output Shape         Param #     Connected to                     \n",
      "==================================================================================================\n",
      " input_1 (InputLayer)           [(None, 224, 224, 3  0           []                               \n",
      "                                )]                                                                \n",
      "                                                                                                  \n",
      " conv2d (Conv2D)                (None, 224, 224, 48  1344        ['input_1[0][0]']                \n",
      "                                )                                                                 \n",
      "                                                                                                  \n",
      " global_average_pooling2d (Glob  (None, 48)          0           ['conv2d[0][0]']                 \n",
      " alAveragePooling2D)                                                                              \n",
      "                                                                                                  \n",
      " dense (Dense)                  (None, 20)           980         ['global_average_pooling2d[0][0]'\n",
      "                                                                 ]                                \n",
      "                                                                                                  \n",
      " dense_1 (Dense)                (None, 48)           1008        ['dense[0][0]']                  \n",
      "                                                                                                  \n",
      " tf.reshape (TFOpLambda)        (None, 1, 1, 48)     0           ['dense_1[0][0]']                \n",
      "                                                                                                  \n",
      " tf.math.multiply (TFOpLambda)  (None, 224, 224, 48  0           ['conv2d[0][0]',                 \n",
      "                                )                                 'tf.reshape[0][0]']             \n",
      "                                                                                                  \n",
      " max_pooling2d (MaxPooling2D)   (None, 112, 112, 48  0           ['tf.math.multiply[0][0]']       \n",
      "                                )                                                                 \n",
      "                                                                                                  \n",
      " conv2d_1 (Conv2D)              (None, 112, 112, 96  41568       ['max_pooling2d[0][0]']          \n",
      "                                )                                                                 \n",
      "                                                                                                  \n",
      " global_average_pooling2d_1 (Gl  (None, 96)          0           ['conv2d_1[0][0]']               \n",
      " obalAveragePooling2D)                                                                            \n",
      "                                                                                                  \n",
      " dense_2 (Dense)                (None, 30)           2910        ['global_average_pooling2d_1[0][0\n",
      "                                                                 ]']                              \n",
      "                                                                                                  \n",
      " dense_3 (Dense)                (None, 96)           2976        ['dense_2[0][0]']                \n",
      "                                                                                                  \n",
      " tf.reshape_1 (TFOpLambda)      (None, 1, 1, 96)     0           ['dense_3[0][0]']                \n",
      "                                                                                                  \n",
      " tf.math.multiply_1 (TFOpLambda  (None, 112, 112, 96  0          ['conv2d_1[0][0]',               \n",
      " )                              )                                 'tf.reshape_1[0][0]']           \n",
      "                                                                                                  \n",
      " max_pooling2d_1 (MaxPooling2D)  (None, 56, 56, 96)  0           ['tf.math.multiply_1[0][0]']     \n",
      "                                                                                                  \n",
      " conv2d_2 (Conv2D)              (None, 56, 56, 192)  166080      ['max_pooling2d_1[0][0]']        \n",
      "                                                                                                  \n",
      " global_average_pooling2d_2 (Gl  (None, 192)         0           ['conv2d_2[0][0]']               \n",
      " obalAveragePooling2D)                                                                            \n",
      "                                                                                                  \n",
      " dense_4 (Dense)                (None, 50)           9650        ['global_average_pooling2d_2[0][0\n",
      "                                                                 ]']                              \n",
      "                                                                                                  \n",
      " dense_5 (Dense)                (None, 192)          9792        ['dense_4[0][0]']                \n",
      "                                                                                                  \n",
      " tf.reshape_2 (TFOpLambda)      (None, 1, 1, 192)    0           ['dense_5[0][0]']                \n",
      "                                                                                                  \n",
      " tf.math.multiply_2 (TFOpLambda  (None, 56, 56, 192)  0          ['conv2d_2[0][0]',               \n",
      " )                                                                'tf.reshape_2[0][0]']           \n",
      "                                                                                                  \n",
      " max_pooling2d_2 (MaxPooling2D)  (None, 28, 28, 192)  0          ['tf.math.multiply_2[0][0]']     \n",
      "                                                                                                  \n",
      " conv2d_3 (Conv2D)              (None, 28, 28, 32)   6176        ['max_pooling2d_2[0][0]']        \n",
      "                                                                                                  \n",
      " model_1 (Functional)           (None, 224, 224, 3)  634131      ['conv2d_3[0][0]']               \n",
      "                                                                                                  \n",
      "==================================================================================================\n",
      "Total params: 876,615\n",
      "Trainable params: 876,615\n",
      "Non-trainable params: 0\n",
      "__________________________________________________________________________________________________\n"
     ]
    }
   ],
   "source": [
    "autoencoder.summary()"
   ]
  },
  {
   "cell_type": "code",
   "execution_count": 47,
   "id": "5f98d178",
   "metadata": {},
   "outputs": [
    {
     "name": "stderr",
     "output_type": "stream",
     "text": [
      "C:\\Users\\Leticia Martinez\\AppData\\Local\\Temp\\ipykernel_14140\\2442866180.py:2: UserWarning: `Model.fit_generator` is deprecated and will be removed in a future version. Please use `Model.fit`, which supports generators.\n",
      "  history = autoencoder.fit_generator(train_generator,validation_data= valid_generator,epochs = 1, verbose=2)\n"
     ]
    },
    {
     "name": "stdout",
     "output_type": "stream",
     "text": [
      "370/370 - 4372s - loss: 0.4275 - val_loss: 0.4037 - 4372s/epoch - 12s/step\n"
     ]
    }
   ],
   "source": [
    "autoencoder.compile(optimizer=tf.keras.optimizers.Adam(), loss='binary_crossentropy')\n",
    "history = autoencoder.fit_generator(train_generator,validation_data= valid_generator,epochs = 1, verbose=2)"
   ]
  },
  {
   "cell_type": "code",
   "execution_count": 48,
   "id": "2634de3e",
   "metadata": {},
   "outputs": [
    {
     "name": "stderr",
     "output_type": "stream",
     "text": [
      "C:\\Users\\Leticia Martinez\\AppData\\Local\\Temp\\ipykernel_14140\\3307048069.py:2: UserWarning: `Model.fit_generator` is deprecated and will be removed in a future version. Please use `Model.fit`, which supports generators.\n",
      "  history = autoencoder.fit_generator(train_generator,validation_data= valid_generator,epochs = 10, verbose=2)\n"
     ]
    },
    {
     "name": "stdout",
     "output_type": "stream",
     "text": [
      "Epoch 1/10\n",
      "370/370 - 4755s - loss: 0.4362 - val_loss: 0.4037 - 4755s/epoch - 13s/step\n",
      "Epoch 2/10\n",
      "370/370 - 4764s - loss: 0.4106 - val_loss: 0.4009 - 4764s/epoch - 13s/step\n",
      "Epoch 3/10\n",
      "370/370 - 4766s - loss: 0.4087 - val_loss: 0.3989 - 4766s/epoch - 13s/step\n",
      "Epoch 4/10\n",
      "370/370 - 4579s - loss: 0.4054 - val_loss: 0.3963 - 4579s/epoch - 12s/step\n",
      "Epoch 5/10\n",
      "370/370 - 4600s - loss: 0.4036 - val_loss: 0.3960 - 4600s/epoch - 12s/step\n",
      "Epoch 6/10\n",
      "370/370 - 4702s - loss: 0.4032 - val_loss: 0.3954 - 4702s/epoch - 13s/step\n",
      "Epoch 7/10\n",
      "370/370 - 4326s - loss: 0.4027 - val_loss: 0.3952 - 4326s/epoch - 12s/step\n",
      "Epoch 8/10\n",
      "370/370 - 4362s - loss: 0.4016 - val_loss: 0.3981 - 4362s/epoch - 12s/step\n",
      "Epoch 9/10\n",
      "370/370 - 4269s - loss: 0.4017 - val_loss: 0.3996 - 4269s/epoch - 12s/step\n",
      "Epoch 10/10\n",
      "370/370 - 4195s - loss: 0.4024 - val_loss: 0.3941 - 4195s/epoch - 11s/step\n"
     ]
    }
   ],
   "source": [
    "autoencoder.compile(optimizer=tf.keras.optimizers.Adam(), loss='binary_crossentropy')\n",
    "history = autoencoder.fit_generator(train_generator,validation_data= valid_generator,epochs = 10, verbose=2)"
   ]
  },
  {
   "cell_type": "code",
   "execution_count": 52,
   "id": "79ebf9a3",
   "metadata": {},
   "outputs": [],
   "source": [
    "import matplotlib as plt"
   ]
  },
  {
   "cell_type": "code",
   "execution_count": 56,
   "id": "0f636df4",
   "metadata": {},
   "outputs": [
    {
     "name": "stderr",
     "output_type": "stream",
     "text": [
      "C:\\Users\\Leticia Martinez\\AppData\\Local\\Temp\\ipykernel_14140\\836443083.py:12: UserWarning: color is redundantly defined by the 'color' keyword argument and the fmt string \"g-o\" (-> color='g'). The keyword argument will take precedence.\n",
      "  ax[1].plot(epochs , train_loss , 'g-o' ,color='r', label = 'Training Loss')\n"
     ]
    },
    {
     "data": {
      "image/png": "[encoded data removed]",
      "text/plain": [
       "<Figure size 2000x1000 with 2 Axes>"
      ]
     },
     "metadata": {},
     "output_type": "display_data"
    }
   ],
   "source": [
    "epochs = list(range(len(history.history['loss'])))\n",
    "fig , ax = plt.subplots(1,2)\n",
    "\n",
    "train_loss = history.history['loss']\n",
    "\n",
    "val_loss = history.history['val_loss']\n",
    "\n",
    "fig.set_size_inches(20,10)\n",
    "\n",
    "\n",
    "\n",
    "ax[1].plot(epochs , train_loss , 'g-o' ,color='r', label = 'Training Loss')\n",
    "ax[1].plot(epochs , val_loss , 'go-' , label = 'Validation Loss')\n",
    "ax[1].set_title('Training Loss')\n",
    "ax[1].legend()\n",
    "ax[1].set_xlabel(\"Epochs\")\n",
    "ax[1].set_ylabel(\"Training Loss\")\n",
    "plt.show()"
   ]
  },
  {
   "cell_type": "code",
   "execution_count": 57,
   "id": "f2926e66",
   "metadata": {},
   "outputs": [
    {
     "name": "stdout",
     "output_type": "stream",
     "text": [
      "WARNING:tensorflow:Compiled the loaded model, but the compiled metrics have yet to be built. `model.compile_metrics` will be empty until you train or evaluate the model.\n",
      "WARNING:tensorflow:Compiled the loaded model, but the compiled metrics have yet to be built. `model.compile_metrics` will be empty until you train or evaluate the model.\n"
     ]
    }
   ],
   "source": [
    "autoencoder.save(\"auto_encoder.h5\")\n",
    "encoder.save('encoder.h5')\n",
    "decoder.save('decoder.h5')"
   ]
  },
  {
   "cell_type": "code",
   "execution_count": 69,
   "id": "6b54b14d",
   "metadata": {},
   "outputs": [],
   "source": [
    "import cv2\n",
    "\n",
    "image_path = \"new_garbage_classification/cardboard/cardboard1.jpg\"\n",
    "img = cv2.imread(\"image_path\")\n",
    "img\n"
   ]
  },
  {
   "cell_type": "code",
   "execution_count": 70,
   "id": "058bc4ab",
   "metadata": {},
   "outputs": [
    {
     "ename": "error",
     "evalue": "OpenCV(4.7.0) D:\\a\\opencv-python\\opencv-python\\opencv\\modules\\imgproc\\src\\color.cpp:182: error: (-215:Assertion failed) !_src.empty() in function 'cv::cvtColor'\n",
     "output_type": "error",
     "traceback": [
      "\u001b[1;31m---------------------------------------------------------------------------\u001b[0m",
      "\u001b[1;31merror\u001b[0m                                     Traceback (most recent call last)",
      "Cell \u001b[1;32mIn[70], line 2\u001b[0m\n\u001b[0;32m      1\u001b[0m orig \u001b[38;5;241m=\u001b[39m cv2\u001b[38;5;241m.\u001b[39mimread(test\u001b[38;5;241m.\u001b[39miloc[\u001b[38;5;241m0\u001b[39m][\u001b[38;5;124m'\u001b[39m\u001b[38;5;124mImage\u001b[39m\u001b[38;5;124m'\u001b[39m]) \n\u001b[1;32m----> 2\u001b[0m orig \u001b[38;5;241m=\u001b[39m \u001b[43mcv2\u001b[49m\u001b[38;5;241;43m.\u001b[39;49m\u001b[43mcvtColor\u001b[49m\u001b[43m(\u001b[49m\u001b[43morig\u001b[49m\u001b[43m,\u001b[49m\u001b[43m \u001b[49m\u001b[43mcv2\u001b[49m\u001b[38;5;241;43m.\u001b[39;49m\u001b[43mCOLOR_BGR2RGB\u001b[49m\u001b[43m)\u001b[49m\n\u001b[0;32m      3\u001b[0m orig\u001b[38;5;241m=\u001b[39morig\u001b[38;5;241m*\u001b[39m \u001b[38;5;241m1.0\u001b[39m \u001b[38;5;241m/\u001b[39m \u001b[38;5;241m255.0\u001b[39m\n\u001b[0;32m      4\u001b[0m orig \u001b[38;5;241m=\u001b[39m cv2\u001b[38;5;241m.\u001b[39mresize(orig, (size, size),\n\u001b[0;32m      5\u001b[0m                interpolation \u001b[38;5;241m=\u001b[39m cv2\u001b[38;5;241m.\u001b[39mINTER_NEAREST)\n",
      "\u001b[1;31merror\u001b[0m: OpenCV(4.7.0) D:\\a\\opencv-python\\opencv-python\\opencv\\modules\\imgproc\\src\\color.cpp:182: error: (-215:Assertion failed) !_src.empty() in function 'cv::cvtColor'\n"
     ]
    }
   ],
   "source": [
    "orig = cv2.imread(test.iloc[0]['Image']) \n",
    "orig = cv2.cvtColor(orig, cv2.COLOR_BGR2RGB)\n",
    "orig=orig* 1.0 / 255.0\n",
    "orig = cv2.resize(orig, (size, size),\n",
    "               interpolation = cv2.INTER_NEAREST)\n",
    "img = tf.expand_dims(orig, axis=0)\n",
    "\n",
    "encoder_output=encoder.predict(img)\n",
    "plt.title('Original')\n",
    "plt.imshow(orig)"
   ]
  },
  {
   "cell_type": "code",
   "execution_count": null,
   "id": "2e4ab0fd",
   "metadata": {},
   "outputs": [],
   "source": [
    "data_directory = \"new_garbage_classification/\""
   ]
  },
  {
   "cell_type": "code",
   "execution_count": null,
   "id": "2756720e",
   "metadata": {},
   "outputs": [],
   "source": []
  }
 ],
 "metadata": {
  "kernelspec": {
   "display_name": "keras8",
   "language": "python",
   "name": "keras8"
  },
  "language_info": {
   "codemirror_mode": {
    "name": "ipython",
    "version": 3
   },
   "file_extension": ".py",
   "mimetype": "text/x-python",
   "name": "python",
   "nbconvert_exporter": "python",
   "pygments_lexer": "ipython3",
   "version": "3.9.16"
  }
 },
 "nbformat": 4,
 "nbformat_minor": 5
}
